{
  "cells": [
    {
      "cell_type": "markdown",
      "metadata": {
        "id": "view-in-github",
        "colab_type": "text"
      },
      "source": [
        "<a href=\"https://colab.research.google.com/github/ayushpatra11/RLU_UoM/blob/main/COM64102_Assignment_a85716ap.ipynb\" target=\"_parent\"><img src=\"https://colab.research.google.com/assets/colab-badge.svg\" alt=\"Open In Colab\"/></a>"
      ]
    },
    {
      "cell_type": "markdown",
      "metadata": {
        "id": "Qf52PGSevKXY"
      },
      "source": [
        "# Assignment Brief: Probabilistic Programming and Active Learning\n",
        "\n",
        "## Deadline: May 7, 2025, 17:00 GMT\n",
        "\n",
        "## Number of marks available: 50\n",
        "\n",
        "This coursework is made of two parts. In the first part, you will use probabilistic programming to perform Bayesian inference in different models. In the second part, you will use uncertainty to guide datapoint selection to create a dataset to train a machine learning model.\n",
        "\n",
        "### Please READ the whole assignment first, before starting to work on it.\n",
        "\n",
        "### How and what to submit\n",
        "\n",
        "A. A **Jupyter Notebook** with the code in all the cells executed and outputs displayed.\n",
        "\n",
        "B. Name your Notebook **COM64102_Assignment_XXXXXX.ipynb** where XXXXXX is your username such as such as abc18de. Example: `COM64102_Assignment_abc18de.ipynb`\n",
        "\n",
        "C. Upload the Jupyter Notebook in B to Blackboard under the submission area before the deadline.\n",
        "\n",
        "D. **NO DATA UPLOAD**: Please do not upload the data files used in this Notebook. We have a copy already.\n",
        "\n",
        "\n",
        "### Assessment Criteria\n",
        "\n",
        "* Being able to compute the posterior distribution in Bayesian logistic regression using a probabilistic program.\n",
        "\n",
        "* Being able to compute several acquisition functions useful for active learning.\n",
        "\n",
        "* Being able to use active learning to speed-up the training process of a digit classifier.\n",
        "\n",
        "\n",
        "### Code quality and use of Python libraries\n",
        "When writing your code, you will find out that there are operations that are repeated at least twice. If your code is unreadable, we may not award marks for that section. Make sure to check the following:\n",
        "\n",
        "* Did you include Python functions to solve the question and avoid repeating code?\n",
        "* Did you comment your code to make it readable to others?\n",
        "\n",
        "### Late submissions\n",
        "\n",
        "We follow Department's guidelines about late submissions, i.e., a deduction of 10% of the mark each 24 hours the work is late after the deadline. NO late submission will be marked one week after the deadline.\n",
        "\n",
        "### Use of unfair means\n",
        "\n",
        "**Any form of unfair means is treated as a serious academic offence and action may be taken under the Discipline Regulations.** Please carefully read [what constitutes Unfair Means](https://documents.manchester.ac.uk/display.aspx?DocID=2870) if not sure. If you still have questions, please ask your Personal tutor or the Lecturers."
      ]
    },
    {
      "cell_type": "markdown",
      "metadata": {
        "id": "jjSTJn07PvUe"
      },
      "source": [
        "# 1. Probabilistic Programming with PyMC\n",
        "\n",
        "[PyMC](https://www.pymc.io/) is a powerful Python library for **Bayesian statistical modeling** and **probabilistic machine learning**. It provides an intuitive and flexible way to define complex models using a **probabilistic programming framework**.\n",
        "\n",
        "PyMC makes it easy to express statistical models in terms of probability distributions, and it automates the process of computing posterior distributions using state-of-the-art Markov Chain Monte Carlo (MCMC) sampling methods like:\n",
        "- [**No-U-Turn Sampler (NUTS)**](https://jmlr.org/papers/volume15/hoffman14a/hoffman14a.pdf), an efficient Hamiltonian Monte Carlo method.\n",
        "- **Metropolis-Hastings** ‚ a traditional and widely-used MCMC approach.\n",
        "\n",
        "Bayesian inference involves calculating the posterior distribution:\n",
        "$$\n",
        "P(\\theta | X) \\propto P(X | \\theta)P(\\theta)\n",
        "$$\n",
        "where:\n",
        "- $P(\\theta)$‚ a prior distribution (our prior belief about the parameters).\n",
        "- $P(X | \\theta)$‚ a likelihood of the data given the parameters.\n",
        "- $P(\\theta | X)$, a posterior distribution (what we want to estimate).\n",
        "\n",
        "Computing this posterior distribution analytically can be difficult or even impossible for complex models. PyMC solves this problem by using efficient numerical sampling techniques, allowing you to approximate the posterior distribution and extract meaningful insights.\n",
        "\n",
        "## How Does PyMC Work?\n",
        "1. **Model Definition**: Define the model using PyMC probabilistic building blocks (e.g., `pm.Normal`, `pm.Bernoulli`).\n",
        "2. **Sampling**: Use `pm.sample()` to draw samples from the posterior distribution.\n",
        "3. **Posterior Analysis**: Analyze the posterior samples to estimate parameters, uncertainties, and credible intervals.\n",
        "\n",
        "PyMC builds on [**Theano**](https://en.wikipedia.org/wiki/Theano_(software)), which allows it to compute gradients and perform symbolic differentiation for more efficient sampling."
      ]
    },
    {
      "cell_type": "markdown",
      "metadata": {
        "id": "CYaNqYbrPvUf"
      },
      "source": [
        "## 1.1 Bayesian inference over the mean of a Gaussian using PyMC\n",
        "\n",
        "In [Lab 1 for this module](https://colab.research.google.com/github/m-caprio/COMP64102-Reasoning-and-Learning-under-Uncertainty-Module/blob/main/New%20Lab%201.ipynb), you computed the posterior distribution over the mean of a Gaussian distribution in closed form using the fact that the Gaussian likelihood and the prior over the mean of the Gaussian likelihood are conjugate. The equation for the mean of the posterior distribution had a closed form.\n",
        "\n",
        "As a warm up example in the use of PyMC, we will do the same example using the probabilistic programming language. Refer to [Lab 1](https://colab.research.google.com/github/m-caprio/COMP64102-Reasoning-and-Learning-under-Uncertainty-Module/blob/main/New%20Lab%201.ipynb) when reading forward.\n"
      ]
    },
    {
      "cell_type": "markdown",
      "metadata": {
        "id": "jlpRhM9bPvUf"
      },
      "source": [
        "Besides installing PyMC, we will also install the [ArViz](https://python.arviz.org/en/stable/) package, which is used for exploratory analysis of Bayesian models."
      ]
    },
    {
      "cell_type": "code",
      "execution_count": 1,
      "metadata": {
        "collapsed": true,
        "id": "ImVOIHTEPvUf",
        "colab": {
          "base_uri": "https://localhost:8080/"
        },
        "outputId": "b4ac398c-1d98-4b19-d67a-6d9d8e30cd31"
      },
      "outputs": [
        {
          "output_type": "stream",
          "name": "stdout",
          "text": [
            "Requirement already satisfied: pymc in /usr/local/lib/python3.11/dist-packages (5.22.0)\n",
            "Requirement already satisfied: arviz>=0.13.0 in /usr/local/lib/python3.11/dist-packages (from pymc) (0.21.0)\n",
            "Requirement already satisfied: cachetools>=4.2.1 in /usr/local/lib/python3.11/dist-packages (from pymc) (5.5.2)\n",
            "Requirement already satisfied: cloudpickle in /usr/local/lib/python3.11/dist-packages (from pymc) (3.1.1)\n",
            "Requirement already satisfied: numpy>=1.25.0 in /usr/local/lib/python3.11/dist-packages (from pymc) (2.0.2)\n",
            "Requirement already satisfied: pandas>=0.24.0 in /usr/local/lib/python3.11/dist-packages (from pymc) (2.2.2)\n",
            "Requirement already satisfied: pytensor<2.31,>=2.30.2 in /usr/local/lib/python3.11/dist-packages (from pymc) (2.30.3)\n",
            "Requirement already satisfied: rich>=13.7.1 in /usr/local/lib/python3.11/dist-packages (from pymc) (13.9.4)\n",
            "Requirement already satisfied: scipy>=1.4.1 in /usr/local/lib/python3.11/dist-packages (from pymc) (1.15.2)\n",
            "Requirement already satisfied: threadpoolctl<4.0.0,>=3.1.0 in /usr/local/lib/python3.11/dist-packages (from pymc) (3.6.0)\n",
            "Requirement already satisfied: typing-extensions>=3.7.4 in /usr/local/lib/python3.11/dist-packages (from pymc) (4.13.2)\n",
            "Requirement already satisfied: setuptools>=60.0.0 in /usr/local/lib/python3.11/dist-packages (from arviz>=0.13.0->pymc) (75.2.0)\n",
            "Requirement already satisfied: matplotlib>=3.5 in /usr/local/lib/python3.11/dist-packages (from arviz>=0.13.0->pymc) (3.10.0)\n",
            "Requirement already satisfied: packaging in /usr/local/lib/python3.11/dist-packages (from arviz>=0.13.0->pymc) (24.2)\n",
            "Requirement already satisfied: xarray>=2022.6.0 in /usr/local/lib/python3.11/dist-packages (from arviz>=0.13.0->pymc) (2025.3.1)\n",
            "Requirement already satisfied: h5netcdf>=1.0.2 in /usr/local/lib/python3.11/dist-packages (from arviz>=0.13.0->pymc) (1.6.1)\n",
            "Requirement already satisfied: xarray-einstats>=0.3 in /usr/local/lib/python3.11/dist-packages (from arviz>=0.13.0->pymc) (0.8.0)\n",
            "Requirement already satisfied: python-dateutil>=2.8.2 in /usr/local/lib/python3.11/dist-packages (from pandas>=0.24.0->pymc) (2.9.0.post0)\n",
            "Requirement already satisfied: pytz>=2020.1 in /usr/local/lib/python3.11/dist-packages (from pandas>=0.24.0->pymc) (2025.2)\n",
            "Requirement already satisfied: tzdata>=2022.7 in /usr/local/lib/python3.11/dist-packages (from pandas>=0.24.0->pymc) (2025.2)\n",
            "Requirement already satisfied: filelock>=3.15 in /usr/local/lib/python3.11/dist-packages (from pytensor<2.31,>=2.30.2->pymc) (3.18.0)\n",
            "Requirement already satisfied: etuples in /usr/local/lib/python3.11/dist-packages (from pytensor<2.31,>=2.30.2->pymc) (0.3.9)\n",
            "Requirement already satisfied: logical-unification in /usr/local/lib/python3.11/dist-packages (from pytensor<2.31,>=2.30.2->pymc) (0.4.6)\n",
            "Requirement already satisfied: miniKanren in /usr/local/lib/python3.11/dist-packages (from pytensor<2.31,>=2.30.2->pymc) (1.0.3)\n",
            "Requirement already satisfied: cons in /usr/local/lib/python3.11/dist-packages (from pytensor<2.31,>=2.30.2->pymc) (0.4.6)\n",
            "Requirement already satisfied: markdown-it-py>=2.2.0 in /usr/local/lib/python3.11/dist-packages (from rich>=13.7.1->pymc) (3.0.0)\n",
            "Requirement already satisfied: pygments<3.0.0,>=2.13.0 in /usr/local/lib/python3.11/dist-packages (from rich>=13.7.1->pymc) (2.19.1)\n",
            "Requirement already satisfied: h5py in /usr/local/lib/python3.11/dist-packages (from h5netcdf>=1.0.2->arviz>=0.13.0->pymc) (3.13.0)\n",
            "Requirement already satisfied: mdurl~=0.1 in /usr/local/lib/python3.11/dist-packages (from markdown-it-py>=2.2.0->rich>=13.7.1->pymc) (0.1.2)\n",
            "Requirement already satisfied: contourpy>=1.0.1 in /usr/local/lib/python3.11/dist-packages (from matplotlib>=3.5->arviz>=0.13.0->pymc) (1.3.2)\n",
            "Requirement already satisfied: cycler>=0.10 in /usr/local/lib/python3.11/dist-packages (from matplotlib>=3.5->arviz>=0.13.0->pymc) (0.12.1)\n",
            "Requirement already satisfied: fonttools>=4.22.0 in /usr/local/lib/python3.11/dist-packages (from matplotlib>=3.5->arviz>=0.13.0->pymc) (4.57.0)\n",
            "Requirement already satisfied: kiwisolver>=1.3.1 in /usr/local/lib/python3.11/dist-packages (from matplotlib>=3.5->arviz>=0.13.0->pymc) (1.4.8)\n",
            "Requirement already satisfied: pillow>=8 in /usr/local/lib/python3.11/dist-packages (from matplotlib>=3.5->arviz>=0.13.0->pymc) (11.2.1)\n",
            "Requirement already satisfied: pyparsing>=2.3.1 in /usr/local/lib/python3.11/dist-packages (from matplotlib>=3.5->arviz>=0.13.0->pymc) (3.2.3)\n",
            "Requirement already satisfied: six>=1.5 in /usr/local/lib/python3.11/dist-packages (from python-dateutil>=2.8.2->pandas>=0.24.0->pymc) (1.17.0)\n",
            "Requirement already satisfied: toolz in /usr/local/lib/python3.11/dist-packages (from logical-unification->pytensor<2.31,>=2.30.2->pymc) (0.12.1)\n",
            "Requirement already satisfied: multipledispatch in /usr/local/lib/python3.11/dist-packages (from logical-unification->pytensor<2.31,>=2.30.2->pymc) (1.0.0)\n"
          ]
        }
      ],
      "source": [
        "!pip install pymc\n",
        "import pymc as pm\n",
        "import arviz as az"
      ]
    },
    {
      "cell_type": "markdown",
      "metadata": {
        "id": "zGZf0OPJRKM4"
      },
      "source": [
        "The following code uses PyMC to obtain samples from the posterior distribution of the mean of the Gaussian"
      ]
    },
    {
      "cell_type": "code",
      "execution_count": 2,
      "metadata": {
        "id": "AEYvCd_4RkYy",
        "colab": {
          "base_uri": "https://localhost:8080/",
          "height": 148,
          "referenced_widgets": [
            "cd9dae3481994b1d98e387cae7eb21d5",
            "921e79d9985342dfa2a269deb03c25db"
          ]
        },
        "outputId": "349f20cb-aa5e-452e-acb3-f2c941cb8236"
      },
      "outputs": [
        {
          "output_type": "display_data",
          "data": {
            "text/plain": [
              "Output()"
            ],
            "application/vnd.jupyter.widget-view+json": {
              "version_major": 2,
              "version_minor": 0,
              "model_id": "cd9dae3481994b1d98e387cae7eb21d5"
            }
          },
          "metadata": {}
        },
        {
          "output_type": "display_data",
          "data": {
            "text/plain": [],
            "text/html": [
              "<pre style=\"white-space:pre;overflow-x:auto;line-height:normal;font-family:Menlo,'DejaVu Sans Mono',consolas,'Courier New',monospace\"></pre>\n"
            ]
          },
          "metadata": {}
        },
        {
          "output_type": "stream",
          "name": "stdout",
          "text": [
            "Posterior mean (mu_p): 3.17\n",
            "Posterior standard deviation (sigma_p): 0.18\n"
          ]
        }
      ],
      "source": [
        "import numpy as np\n",
        "import matplotlib.pyplot as plt\n",
        "from scipy.stats import norm\n",
        "\n",
        "# Observed data (assumed to be generated from a Gaussian distribution)\n",
        "data = np.array([3.2, 2.8, 3.6, 3.0, 3.1, 2.9, 3.3, 3.5])\n",
        "\n",
        "# Known standard deviation of the data\n",
        "sigma = 0.5\n",
        "\n",
        "# Define the model in PyMC\n",
        "with pm.Model() as model:\n",
        "    # Prior for mu (mean) - assume Gaussian prior\n",
        "    mu_0 = 3.0  # Prior mean\n",
        "    sigma_0 = 1.0  # Prior standard deviation\n",
        "    mu = pm.Normal('mu', mu=mu_0, sigma=sigma_0) # Prior\n",
        "\n",
        "    # Likelihood for the data - assume Gaussian likelihood\n",
        "    likelihood = pm.Normal('likelihood', mu=mu, sigma=sigma, observed=data) # Likelihood\n",
        "\n",
        "    # Sample from the posterior distribution\n",
        "    trace = pm.sample(2000, return_inferencedata=True)\n",
        "\n",
        "# Extract posterior samples\n",
        "mu_p_samples = trace.posterior['mu'].values.flatten()\n",
        "\n",
        "# Compute posterior mean and standard deviation\n",
        "mu_p = np.mean(mu_p_samples)\n",
        "sigma_p = np.std(mu_p_samples)\n",
        "\n",
        "# Print results\n",
        "print(f\"Posterior mean (mu_p): {mu_p:.2f}\")\n",
        "print(f\"Posterior standard deviation (sigma_p): {sigma_p:.2f}\")"
      ]
    },
    {
      "cell_type": "markdown",
      "metadata": {
        "id": "OrVPs2LsTKyh"
      },
      "source": [
        "The values for the posterior mean and posterior standard deviation when comparing the exact solution in Lab 1 and the sampling approach using PyMC are the same.\n",
        "\n",
        "**Question 1 (5 marks)**\n",
        "\n",
        "What is the fundamental difference between the approach to compute the mean of the posterior distribution in Lab 1 and the approach to compute the mean using PyMC.\n",
        "\n",
        "*Solution*\n",
        "\n",
        "In lab 1, we used basic probability rules to calculate the mean of a Gaussian distribution using closed-form formulas because the prior and likelihood were both Gaussian (They formed a conjugate pair). This gave us an exact solution.\n",
        "\n",
        "In the above approach using PyMC, instead of solving the math ourselves, we defined the model in code and used PyMC to estimate the posterior by drawing samples using MCMC. This approach gives similar results but works even when an exact formula is not possible.\n"
      ]
    },
    {
      "cell_type": "markdown",
      "metadata": {
        "id": "2YmKGYopu7UX"
      },
      "source": [
        "We can now plot the prior, likelihood and the posterior pdf's."
      ]
    },
    {
      "cell_type": "code",
      "execution_count": 3,
      "metadata": {
        "id": "bHuuvveMvBTI",
        "colab": {
          "base_uri": "https://localhost:8080/",
          "height": 568
        },
        "outputId": "8ce30913-6353-45f1-ea71-2c5dcf309f36"
      },
      "outputs": [
        {
          "output_type": "display_data",
          "data": {
            "text/plain": [
              "<Figure size 1000x600 with 1 Axes>"
            ],
            "image/png": "[encoded data removed]"
          },
          "metadata": {}
        }
      ],
      "source": [
        "# Plot prior, likelihood, and posterior\n",
        "x = np.linspace(2, 4, 1000)  # Range of mu values to plot\n",
        "prior = norm.pdf(x, mu_0, sigma_0)  # Prior distribution\n",
        "likelihood = norm.pdf(x, np.mean(data), sigma / np.sqrt(len(data)))  # Likelihood\n",
        "posterior = norm.pdf(x, mu_p, sigma_p)  # Posterior distribution\n",
        "\n",
        "plt.figure(figsize=(10, 6))\n",
        "plt.plot(x, prior, label=\"Prior\", linestyle=\"--\")\n",
        "plt.plot(x, likelihood, label=\"Likelihood\", linestyle=\"-.\")\n",
        "plt.plot(x, posterior, label=\"Posterior\", linestyle=\"-\")\n",
        "plt.title(\"Bayesian Update of Gaussian Mean (PyMC)\")\n",
        "plt.xlabel(\"Mean ($\\mu$)\")\n",
        "plt.ylabel(\"Probability Density\")\n",
        "plt.legend()\n",
        "plt.show()"
      ]
    },
    {
      "cell_type": "markdown",
      "metadata": {
        "id": "pmkimtfdxGEf"
      },
      "source": [
        "Two metrics to assess convergence in MCMC are the **effective sample size** (ESS) and the **estimated potential scale reduction** (EPSRC) or **R-hat**."
      ]
    },
    {
      "cell_type": "markdown",
      "metadata": {
        "id": "uUbtE6o-x057"
      },
      "source": [
        "We can use the [ArViz](https://python.arviz.org/en/stable/) package to compute both quantities."
      ]
    },
    {
      "cell_type": "code",
      "execution_count": 4,
      "metadata": {
        "id": "lM4wgfNkyAmt",
        "colab": {
          "base_uri": "https://localhost:8080/"
        },
        "outputId": "dbf5099d-6125-4f35-a78a-0c28b93490eb"
      },
      "outputs": [
        {
          "output_type": "stream",
          "name": "stdout",
          "text": [
            "     mean     sd  hdi_2.5%  hdi_97.5%  mcse_mean  mcse_sd  ess_bulk  ess_tail  \\\n",
            "mu  3.174  0.178     2.847      3.549      0.004    0.003    1577.0    2552.0   \n",
            "\n",
            "    r_hat  \n",
            "mu    1.0  \n"
          ]
        }
      ],
      "source": [
        "# Posterior summary (for more detailed diagnostics)\n",
        "print(az.summary(trace, var_names=[\"mu\"], hdi_prob=0.95))"
      ]
    },
    {
      "cell_type": "markdown",
      "metadata": {
        "id": "iugJGyZo0JNX"
      },
      "source": [
        "**Question 2 (5 marks)**\n",
        "\n",
        "The value of `r_hat` for the mean is equal to 1.0. Explain what `r_hat` computes and whether 1.0 is a good value. Explain why it is or why it is not a good value."
      ]
    },
    {
      "cell_type": "markdown",
      "metadata": {
        "id": "rn-MMjNi1JRB"
      },
      "source": [
        "*Solution*\n",
        "\n",
        "`r_hat` (Gelman-Rubin statistic) is used to check whether the Markov Chain Monte Carlo (MCMC) sampling has converged. It compares the variance among multiple chains being sampled with the variance within each individual chain. If all the chains have converged to the same posterior (or target) distribution, their variances should be similar.\n",
        "\n",
        "The `r_hat` value we obtained is 1.0, which means the chains are well mixed and have likely converged. This indicates that we are sampling from the same posterior distribution, as their variances are similar. If the value had been significantly greater than 1.0, it would suggest that the chains had not converged, and more sampling or better tuning would be required."
      ]
    },
    {
      "cell_type": "markdown",
      "metadata": {
        "id": "VaUjD0aM5Jhj"
      },
      "source": [
        "## 1.2 Bayesian logistic regression with PyMC\n",
        "\n",
        "In the previous module in Foundations of Machine Learning, we spent some time on a linear model for classification called **logistic regression**.\n",
        "\n",
        "In a binary classification problem, let $\\mathbf{X}=[\\mathbf{x}_1 \\cdots \\mathbf{x}_N]^\\top$ and and $\\mathbf{y} =[y_1\\cdots y_N]^{\\top}$, where $\\mathbf{X}$ is the design matrix and each element in $\\mathbf{y}$, say $y_n$ indicates to which class the corresponding input vector, $\\mathbf{x}_n$, belongs to.\n",
        "\n",
        "Assumming IID observations, the likelihood for the dataset is given as\n",
        "\\begin{align*}\n",
        "p(\\mathbf{y}|\\mathbf{w},\\mathbf{X}) = \\prod_{n=1}^Np(y_n|\\mathbf{w},\\mathbf{x}_n)\n",
        "  =\\prod_{n=1}^N\\textrm{Ber}(y_n|\\sigma(\\mathbf{w}^{\\top}\\mathbf{x}_n)),\n",
        "\\end{align*}\n",
        "where $\\textrm{Ber}(y_n|\\mu)$ refers to the Bernoulli distribution with parameter $\\mu$, and $\\sigma(a)$ is the sigmoid function defined as $\\sigma(a)=\\frac{1}{1+ \\exp(-a)}$.\n",
        "\n",
        "The maximum-likelihood estimator for $\\mathbf{w}$ can be obtained by minimising the negative log-likelihood (or the cross-entropy function) given as\n",
        "\n",
        "\\begin{align*}\n",
        "NLL(\\mathbf{w}) & = - \\log p(\\mathbf{y}|\\mathbf{w},\\mathbf{X}) \\\\\n",
        "& = - \\sum_{n=1}^N\\{y_n\\log[\\sigma(\\mathbf{w}^{\\top}\\mathbf{x}_n)] + (1-y_n)\\log[1 - \\sigma(\\mathbf{w}^{\\top}\\mathbf{x}_n)] \\}.\n",
        "\\end{align*}\n",
        "\n",
        "In *Bayesian logistic regression*, we put a prior over the weights $\\mathbf{w}$. We then compute the posterior distribution\n",
        "\\begin{align*}\n",
        "p(\\mathbf{w}|\\mathbf{X}, \\mathbf{y}) \\propto p(\\mathbf{y}|\\mathbf{w}, \\mathbf{X})p(\\mathbf{w}).\n",
        "\\end{align*}\n",
        "For predicting the class of a text point, $\\mathbf{x}_*$, we need to compute the predictive distribution,\n",
        "\\begin{align}\n",
        "p(y_*|\\mathbf{x}_*)=\\int \\sigma(\\mathbf{w}^{\\top}\\mathbf{x}_*)p(\\mathbf{w}|\\mathbf{X}, \\mathbf{y})d\\mathbf{w}.\n",
        "\\end{align}\n",
        "\n",
        "If we approximate the posterior distribution $p(\\mathbf{w}|\\mathbf{X}, \\mathbf{y})$ with a Gaussian posterior distribution,\n",
        "\\begin{align*}\n",
        "p(\\mathbf{w}|\\mathbf{X}, \\mathbf{y}) ≈ q(\\mathbf{w}|\\mathbf{X}, \\mathbf{y}) = N(\\mathbf{w}|𝛍_{\\text{post}}, 𝚺_{\\text{post}}),\n",
        "\\end{align*}\n",
        "it can be shown the predictive distribution can also be approximated as\n",
        "\\begin{align*}\n",
        "p(y_*=1|\\mathbf{x}_*) = \\sigma(\\kappa (\\sigma^2_a)\\mu_a),\n",
        "\\end{align*}\n",
        "where\n",
        "\\begin{align*}\n",
        "\\mu_a &= 𝛍_{\\text{post}}^\\top\\mathbf{x}_*,\\\\\n",
        "\\sigma_a^2 &= \\mathbf{x}^\\top_*𝚺_{\\text{post}}\\mathbf{x}_*,\\\\\n",
        "\\kappa(\\sigma^2) &= \\frac{1}{(1+\\pi \\sigma^2/8)^{\\frac{1}{2}}}\n",
        "\\end{align*}\n",
        "\n",
        "\n",
        "### Bayesian logistic regression for the Iris dataset\n",
        "\n",
        "To illustrate how Bayesian logistic regression works, we will use a very well known dataset, the [Iris dataset](https://archive.ics.uci.edu/dataset/53/iris). The dataset has three classes and four input features. We will only use two classes."
      ]
    },
    {
      "cell_type": "markdown",
      "metadata": {
        "id": "ukNbfo9zvDNN"
      },
      "source": [
        "Let us load the dataset"
      ]
    },
    {
      "cell_type": "code",
      "execution_count": 5,
      "metadata": {
        "id": "SdETdAXgvFTW",
        "colab": {
          "base_uri": "https://localhost:8080/"
        },
        "outputId": "ee0a4136-99a5-42e3-f195-e020f68239b0"
      },
      "outputs": [
        {
          "output_type": "stream",
          "name": "stdout",
          "text": [
            "Collecting ucimlrepo\n",
            "  Downloading ucimlrepo-0.0.7-py3-none-any.whl.metadata (5.5 kB)\n",
            "Requirement already satisfied: pandas>=1.0.0 in /usr/local/lib/python3.11/dist-packages (from ucimlrepo) (2.2.2)\n",
            "Requirement already satisfied: certifi>=2020.12.5 in /usr/local/lib/python3.11/dist-packages (from ucimlrepo) (2025.4.26)\n",
            "Requirement already satisfied: numpy>=1.23.2 in /usr/local/lib/python3.11/dist-packages (from pandas>=1.0.0->ucimlrepo) (2.0.2)\n",
            "Requirement already satisfied: python-dateutil>=2.8.2 in /usr/local/lib/python3.11/dist-packages (from pandas>=1.0.0->ucimlrepo) (2.9.0.post0)\n",
            "Requirement already satisfied: pytz>=2020.1 in /usr/local/lib/python3.11/dist-packages (from pandas>=1.0.0->ucimlrepo) (2025.2)\n",
            "Requirement already satisfied: tzdata>=2022.7 in /usr/local/lib/python3.11/dist-packages (from pandas>=1.0.0->ucimlrepo) (2025.2)\n",
            "Requirement already satisfied: six>=1.5 in /usr/local/lib/python3.11/dist-packages (from python-dateutil>=2.8.2->pandas>=1.0.0->ucimlrepo) (1.17.0)\n",
            "Downloading ucimlrepo-0.0.7-py3-none-any.whl (8.0 kB)\n",
            "Installing collected packages: ucimlrepo\n",
            "Successfully installed ucimlrepo-0.0.7\n"
          ]
        }
      ],
      "source": [
        "!pip install ucimlrepo\n",
        "from ucimlrepo import fetch_ucirepo\n",
        "\n",
        "# fetch dataset\n",
        "iris = fetch_ucirepo(id=53)\n",
        "\n",
        "# data (as pandas dataframes)\n",
        "X3 = iris.data.features\n",
        "y3 = iris.data.targets\n",
        "# Drop the last class and the last two columns\n",
        "Xp = X3.drop(X3.index[100:150])\n",
        "yp = y3.drop(y3.index[100:150])"
      ]
    },
    {
      "cell_type": "markdown",
      "metadata": {
        "id": "xt3Ncv8jynbB"
      },
      "source": [
        "We now have a reduced dataset that we will split into training and test"
      ]
    },
    {
      "cell_type": "code",
      "execution_count": 6,
      "metadata": {
        "id": "EhZDzlvIvdAe"
      },
      "outputs": [],
      "source": [
        "from sklearn.model_selection import train_test_split\n",
        "from sklearn.preprocessing import StandardScaler\n",
        "import numpy as np\n",
        "# We add a vector of ones to the input space in X\n",
        "X = Xp.to_numpy()\n",
        "# Add a column of ones to X\n",
        "y = np.vstack((np.zeros((50, 1)), np.ones((50, 1))))\n",
        "# Split dataset\n",
        "X_train, X_test, y_train, y_test = train_test_split(X, y, test_size=0.4, random_state=int(1e3))\n",
        "scaler = StandardScaler()\n",
        "X_train = scaler.fit_transform(X_train)\n",
        "X_test = scaler.transform(X_test)"
      ]
    },
    {
      "cell_type": "markdown",
      "metadata": {
        "id": "w2AWsxxNzs0y"
      },
      "source": [
        "**Question 3 (10 marks)**\n",
        "\n",
        "Let us define the following prior distribution for $\\mathbf{w}$, $p(\\mathbf{w})= N(\\mathbf{w}|\\mathbf{0}_4, 0.001\\times \\mathbf{I}_4)$, where $\\mathbf{0}_4 = [0, 0, 0, 0]^\\top$ and $\\mathbf{I}_4$ is the identity matrix of dimension four since there are four input features.\n",
        "\n",
        "Using the training data `X_train` and `y_train`, compute an approximate posterior Gaussian distribution using PyMC for a Bayesian logistic regression model. Use 2000 samples for the sampler and report the mean and the covariance matrix for the approximate Gaussian using the last 1000 samples of one of the chains (**7 marks**)"
      ]
    },
    {
      "cell_type": "markdown",
      "metadata": {
        "id": "yL67G-rT11O6"
      },
      "source": [
        "*Solution*"
      ]
    },
    {
      "cell_type": "code",
      "execution_count": 7,
      "metadata": {
        "id": "H23KT6fe1y21",
        "colab": {
          "base_uri": "https://localhost:8080/",
          "height": 252,
          "referenced_widgets": [
            "0586938686004dd4ac9f6778d7135c78",
            "9639fef5045a438eace08079546af5b3"
          ]
        },
        "outputId": "c35b8d2a-8c12-4ccf-b1e4-422922045d0d"
      },
      "outputs": [
        {
          "output_type": "display_data",
          "data": {
            "text/plain": [
              "Output()"
            ],
            "application/vnd.jupyter.widget-view+json": {
              "version_major": 2,
              "version_minor": 0,
              "model_id": "0586938686004dd4ac9f6778d7135c78"
            }
          },
          "metadata": {}
        },
        {
          "output_type": "display_data",
          "data": {
            "text/plain": [],
            "text/html": [
              "<pre style=\"white-space:pre;overflow-x:auto;line-height:normal;font-family:Menlo,'DejaVu Sans Mono',consolas,'Courier New',monospace\"></pre>\n"
            ]
          },
          "metadata": {}
        },
        {
          "output_type": "stream",
          "name": "stdout",
          "text": [
            "Posterior mean of weights:\n",
            " [ 0.01881136 -0.02001957  0.02746464  0.02616561]\n",
            "\n",
            "Posterior covariance matrix:\n",
            " [[ 9.23034760e-04 -5.25743912e-05  2.62873970e-05 -1.22066299e-05]\n",
            " [-5.25743912e-05  9.55794174e-04  2.75607197e-05 -5.17392949e-06]\n",
            " [ 2.62873970e-05  2.75607197e-05  9.97345822e-04 -7.70207045e-05]\n",
            " [-1.22066299e-05 -5.17392949e-06 -7.70207045e-05  9.97391860e-04]]\n"
          ]
        }
      ],
      "source": [
        "y_train_flat = y_train.flatten()\n",
        "mean_prior = np.zeros(4)\n",
        "cov_prior = 0.001 * np.eye(4)\n",
        "\n",
        "with pm.Model() as logistic_model:\n",
        "    w = pm.MvNormal(\"w\", mu=mean_prior, cov=cov_prior)\n",
        "\n",
        "    logit = pm.math.dot(X_train, w)\n",
        "\n",
        "    y_obs = pm.Bernoulli(\"y_obs\", logit_p=logit, observed=y_train_flat)\n",
        "\n",
        "    trace = pm.sample(2000, chains=2, return_inferencedata=True, target_accept=0.9)\n",
        "\n",
        "w_posterior_samples = trace.posterior[\"w\"].sel(chain=0).isel(draw=slice(-1000, None)).values\n",
        "\n",
        "w_posterior_mean = np.mean(w_posterior_samples, axis=0)\n",
        "\n",
        "w_posterior_cov = np.cov(w_posterior_samples, rowvar=False)\n",
        "\n",
        "print(\"Posterior mean of weights:\\n\", w_posterior_mean)\n",
        "print(\"\\nPosterior covariance matrix:\\n\", w_posterior_cov)"
      ]
    },
    {
      "cell_type": "markdown",
      "metadata": {
        "id": "W-NGzSdwm1NP"
      },
      "source": [
        "Compute the accuracy of the linear classifier over the test set using the approximated distribution $p(y_*=1|\\mathbf{x}_*) = \\sigma(\\kappa (\\sigma^2_a)\\mu_a)$, as explained above (**3 marks**)."
      ]
    },
    {
      "cell_type": "markdown",
      "source": [
        "*Solution*"
      ],
      "metadata": {
        "id": "IiTVWabFXZgm"
      }
    },
    {
      "cell_type": "code",
      "execution_count": 8,
      "metadata": {
        "id": "RWzhzUPRkwY9",
        "colab": {
          "base_uri": "https://localhost:8080/"
        },
        "outputId": "01fdf75a-0305-4266-d305-4a8518df92c7"
      },
      "outputs": [
        {
          "output_type": "stream",
          "name": "stdout",
          "text": [
            "Accuracy: 100.00%\n"
          ]
        }
      ],
      "source": [
        "from scipy.special import expit\n",
        "\n",
        "mu_a = X_test @ w_posterior_mean\n",
        "\n",
        "temp = X_test @ w_posterior_cov\n",
        "\n",
        "sigma_a2 = np.sum(temp * X_test, axis=1)\n",
        "\n",
        "k_sigma_a2 = 1.0 / np.sqrt(1.0 + (np.pi * sigma_a2) / 8.0)\n",
        "\n",
        "pred_prob = expit(k_sigma_a2 * mu_a)\n",
        "\n",
        "y_pred = (pred_prob >= 0.5).astype(int).flatten()\n",
        "\n",
        "accuracy = np.mean(y_pred == y_test.flatten())\n",
        "\n",
        "print(f\"Accuracy: {accuracy * 100:.2f}%\")"
      ]
    },
    {
      "cell_type": "markdown",
      "metadata": {
        "id": "dWKwKL2QVO4Z"
      },
      "source": [
        "# 2. Active Learning -- Using data selection via uncertainty to keep models fresh\n",
        "\n",
        "We can use\n",
        "uncertainties to figure out whether data should be part of the training data\n",
        "or not. We can expand on this idea in the context of an area of\n",
        "machine learning called **active learning**. The promise of active\n",
        "learning is that a model can learn more eﬀectively on less data if we\n",
        "have a way to control the type of data it is trained on. Active learning is a way to\n",
        "guide the learning process and data a model is trained on by\n",
        "**providing acquisition functions** that can acquire data from a pool of data that is\n",
        "not part of the training data. By iteratively selecting the right data\n",
        "from the pool, we can train a model that performs better than if we\n",
        "had chosen the data from the pool at random.\n",
        "\n",
        "The active learning approach can be described with the following iterative procedure\n",
        "```\n",
        "A model is initially trained using a few samples per class\n",
        "for iter until a fixed number of iterations:\n",
        "  compute an acquisition function over the data in the pool\n",
        "  based on the acquisition function select a sample to include in the  \n",
        "     training data\n",
        "  train the model again using the augmented training data\n",
        "```\n",
        "\n",
        "In this part of the coursework, we will use results from a fundamental\n",
        "active learning paper: [Deep Bayesian Active Learning with Image Data\n",
        "(2017)](https://arxiv.org/abs/1703.02910). We will use the MNIST dataset and train a model on more\n",
        "and more data, where we select the data points to add to our\n",
        "training set via an uncertainty method. In this case, we will use **epistemic uncertainty** to select the most informative data points.\n",
        "Images with high epistemic uncertainty will be added to the traininig dataset in a sequential manner. The epistemic uncertainty can be computed using different methods. You will use **Monte Carlo dropout** and will compare the performance of using epistemic uncertainty to introduce new points in the training data against including new training points just but randomly selecting from a pool of available data.\n",
        "\n",
        "**IMPORTANT** To reduce the amount of code appearing in the notebook, we have created a set of python modules that include auxiliary functions. You need to make sure when running the notebook that your Google Drive is mounted and the auxiliar Python files can be accessed from the Notebook. On how to allow your Notebook to find the .py files in your Google Drive, see instructions in this [link](https://nimbusintelligence.com/2023/03/import-python-scripts-in-google-colab/)"
      ]
    },
    {
      "cell_type": "code",
      "execution_count": 9,
      "metadata": {
        "collapsed": true,
        "id": "-cg9BNEcma5w",
        "colab": {
          "base_uri": "https://localhost:8080/"
        },
        "outputId": "0769af14-0f40-4245-f192-501054206f4e"
      },
      "outputs": [
        {
          "output_type": "stream",
          "name": "stdout",
          "text": [
            "Mounted at /content/drive\n"
          ]
        }
      ],
      "source": [
        "from google.colab import drive\n",
        "drive.mount('/content/drive')\n",
        "\n",
        "import sys\n",
        "# The path here can be different, depending on where you have uploaded the auxiliary Python files config.py, main.py, utils.py, model.py, visualise.py, data.py\n",
        "sys.path.insert(0,'/content/drive/My Drive/Colab Notebooks')"
      ]
    },
    {
      "cell_type": "markdown",
      "metadata": {
        "id": "aogBdN1kXaWI"
      },
      "source": [
        "We start by importing a set of modules"
      ]
    },
    {
      "cell_type": "code",
      "execution_count": 10,
      "metadata": {
        "id": "2ZECq2uAVUbw"
      },
      "outputs": [],
      "source": [
        "import dataclasses\n",
        "from typing import Optional, Tuple, Union, Callable\n",
        "import numpy as np\n",
        "import pandas as pd\n",
        "import torch\n",
        "import torch.nn as nn\n",
        "import torch.optim as optim\n",
        "from torch.utils.data import DataLoader, TensorDataset\n",
        "from sklearn.utils import shuffle\n",
        "import matplotlib.pyplot as plt\n",
        "import seaborn as sns\n",
        "from PIL import Image\n",
        "import torchvision\n",
        "from tqdm import tqdm\n",
        "import json\n",
        "from pathlib import Path\n",
        "import gc\n",
        "import uuid\n",
        "import matplotlib.pyplot as plt"
      ]
    },
    {
      "cell_type": "code",
      "execution_count": 11,
      "metadata": {
        "id": "ppd49QmyX3Ns",
        "colab": {
          "base_uri": "https://localhost:8080/"
        },
        "outputId": "e89bbf32-eebf-462b-da05-4b57a513ef42"
      },
      "outputs": [
        {
          "output_type": "stream",
          "name": "stdout",
          "text": [
            "Collecting laplace-torch\n",
            "  Downloading laplace_torch-0.2.2.2-py3-none-any.whl.metadata (5.1 kB)\n",
            "Collecting asdfghjkl==0.1a4 (from laplace-torch)\n",
            "  Downloading asdfghjkl-0.1a4-py3-none-any.whl.metadata (3.2 kB)\n",
            "Collecting backpack-for-pytorch (from laplace-torch)\n",
            "  Downloading backpack_for_pytorch-1.7.1-py3-none-any.whl.metadata (4.4 kB)\n",
            "Collecting curvlinops-for-pytorch>=2.0 (from laplace-torch)\n",
            "  Downloading curvlinops_for_pytorch-2.0.1-py3-none-any.whl.metadata (4.9 kB)\n",
            "Requirement already satisfied: numpy in /usr/local/lib/python3.11/dist-packages (from laplace-torch) (2.0.2)\n",
            "Requirement already satisfied: opt_einsum in /usr/local/lib/python3.11/dist-packages (from laplace-torch) (3.4.0)\n",
            "Requirement already satisfied: torch>=2.0 in /usr/local/lib/python3.11/dist-packages (from laplace-torch) (2.6.0+cu124)\n",
            "Collecting torchmetrics (from laplace-torch)\n",
            "  Downloading torchmetrics-1.7.1-py3-none-any.whl.metadata (21 kB)\n",
            "Requirement already satisfied: torchvision>=0.15 in /usr/local/lib/python3.11/dist-packages (from laplace-torch) (0.21.0+cu124)\n",
            "Requirement already satisfied: scipy<2.0.0,>=1.7.1 in /usr/local/lib/python3.11/dist-packages (from curvlinops-for-pytorch>=2.0->laplace-torch) (1.15.2)\n",
            "Collecting numpy (from laplace-torch)\n",
            "  Downloading numpy-1.26.4-cp311-cp311-manylinux_2_17_x86_64.manylinux2014_x86_64.whl.metadata (61 kB)\n",
            "\u001b[2K     \u001b[90m━━━━━━━━━━━━━━━━━━━━━━━━━━━━━━━━━━━━━━━━\u001b[0m \u001b[32m61.0/61.0 kB\u001b[0m \u001b[31m2.7 MB/s\u001b[0m eta \u001b[36m0:00:00\u001b[0m\n",
            "\u001b[?25hRequirement already satisfied: tqdm<5.0.0,>=4.61.0 in /usr/local/lib/python3.11/dist-packages (from curvlinops-for-pytorch>=2.0->laplace-torch) (4.67.1)\n",
            "Requirement already satisfied: einops in /usr/local/lib/python3.11/dist-packages (from curvlinops-for-pytorch>=2.0->laplace-torch) (0.8.1)\n",
            "Collecting einconv (from curvlinops-for-pytorch>=2.0->laplace-torch)\n",
            "  Downloading einconv-0.1.0-py3-none-any.whl.metadata (1.9 kB)\n",
            "Collecting unfoldNd<1.0.0,>=0.2.0 (from backpack-for-pytorch->laplace-torch)\n",
            "  Downloading unfoldNd-0.2.3-py3-none-any.whl.metadata (1.5 kB)\n",
            "Requirement already satisfied: filelock in /usr/local/lib/python3.11/dist-packages (from torch>=2.0->laplace-torch) (3.18.0)\n",
            "Requirement already satisfied: typing-extensions>=4.10.0 in /usr/local/lib/python3.11/dist-packages (from torch>=2.0->laplace-torch) (4.13.2)\n",
            "Requirement already satisfied: networkx in /usr/local/lib/python3.11/dist-packages (from torch>=2.0->laplace-torch) (3.4.2)\n",
            "Requirement already satisfied: jinja2 in /usr/local/lib/python3.11/dist-packages (from torch>=2.0->laplace-torch) (3.1.6)\n",
            "Requirement already satisfied: fsspec in /usr/local/lib/python3.11/dist-packages (from torch>=2.0->laplace-torch) (2025.3.2)\n",
            "Collecting nvidia-cuda-nvrtc-cu12==12.4.127 (from torch>=2.0->laplace-torch)\n",
            "  Downloading nvidia_cuda_nvrtc_cu12-12.4.127-py3-none-manylinux2014_x86_64.whl.metadata (1.5 kB)\n",
            "Collecting nvidia-cuda-runtime-cu12==12.4.127 (from torch>=2.0->laplace-torch)\n",
            "  Downloading nvidia_cuda_runtime_cu12-12.4.127-py3-none-manylinux2014_x86_64.whl.metadata (1.5 kB)\n",
            "Collecting nvidia-cuda-cupti-cu12==12.4.127 (from torch>=2.0->laplace-torch)\n",
            "  Downloading nvidia_cuda_cupti_cu12-12.4.127-py3-none-manylinux2014_x86_64.whl.metadata (1.6 kB)\n",
            "Collecting nvidia-cudnn-cu12==9.1.0.70 (from torch>=2.0->laplace-torch)\n",
            "  Downloading nvidia_cudnn_cu12-9.1.0.70-py3-none-manylinux2014_x86_64.whl.metadata (1.6 kB)\n",
            "Collecting nvidia-cublas-cu12==12.4.5.8 (from torch>=2.0->laplace-torch)\n",
            "  Downloading nvidia_cublas_cu12-12.4.5.8-py3-none-manylinux2014_x86_64.whl.metadata (1.5 kB)\n",
            "Collecting nvidia-cufft-cu12==11.2.1.3 (from torch>=2.0->laplace-torch)\n",
            "  Downloading nvidia_cufft_cu12-11.2.1.3-py3-none-manylinux2014_x86_64.whl.metadata (1.5 kB)\n",
            "Collecting nvidia-curand-cu12==10.3.5.147 (from torch>=2.0->laplace-torch)\n",
            "  Downloading nvidia_curand_cu12-10.3.5.147-py3-none-manylinux2014_x86_64.whl.metadata (1.5 kB)\n",
            "Collecting nvidia-cusolver-cu12==11.6.1.9 (from torch>=2.0->laplace-torch)\n",
            "  Downloading nvidia_cusolver_cu12-11.6.1.9-py3-none-manylinux2014_x86_64.whl.metadata (1.6 kB)\n",
            "Collecting nvidia-cusparse-cu12==12.3.1.170 (from torch>=2.0->laplace-torch)\n",
            "  Downloading nvidia_cusparse_cu12-12.3.1.170-py3-none-manylinux2014_x86_64.whl.metadata (1.6 kB)\n",
            "Requirement already satisfied: nvidia-cusparselt-cu12==0.6.2 in /usr/local/lib/python3.11/dist-packages (from torch>=2.0->laplace-torch) (0.6.2)\n",
            "Requirement already satisfied: nvidia-nccl-cu12==2.21.5 in /usr/local/lib/python3.11/dist-packages (from torch>=2.0->laplace-torch) (2.21.5)\n",
            "Requirement already satisfied: nvidia-nvtx-cu12==12.4.127 in /usr/local/lib/python3.11/dist-packages (from torch>=2.0->laplace-torch) (12.4.127)\n",
            "Collecting nvidia-nvjitlink-cu12==12.4.127 (from torch>=2.0->laplace-torch)\n",
            "  Downloading nvidia_nvjitlink_cu12-12.4.127-py3-none-manylinux2014_x86_64.whl.metadata (1.5 kB)\n",
            "Requirement already satisfied: triton==3.2.0 in /usr/local/lib/python3.11/dist-packages (from torch>=2.0->laplace-torch) (3.2.0)\n",
            "Requirement already satisfied: sympy==1.13.1 in /usr/local/lib/python3.11/dist-packages (from torch>=2.0->laplace-torch) (1.13.1)\n",
            "Requirement already satisfied: mpmath<1.4,>=1.1.0 in /usr/local/lib/python3.11/dist-packages (from sympy==1.13.1->torch>=2.0->laplace-torch) (1.3.0)\n",
            "Requirement already satisfied: pillow!=8.3.*,>=5.3.0 in /usr/local/lib/python3.11/dist-packages (from torchvision>=0.15->laplace-torch) (11.2.1)\n",
            "Requirement already satisfied: packaging>17.1 in /usr/local/lib/python3.11/dist-packages (from torchmetrics->laplace-torch) (24.2)\n",
            "Collecting lightning-utilities>=0.8.0 (from torchmetrics->laplace-torch)\n",
            "  Downloading lightning_utilities-0.14.3-py3-none-any.whl.metadata (5.6 kB)\n",
            "Requirement already satisfied: setuptools in /usr/local/lib/python3.11/dist-packages (from lightning-utilities>=0.8.0->torchmetrics->laplace-torch) (75.2.0)\n",
            "Requirement already satisfied: MarkupSafe>=2.0 in /usr/local/lib/python3.11/dist-packages (from jinja2->torch>=2.0->laplace-torch) (3.0.2)\n",
            "Downloading laplace_torch-0.2.2.2-py3-none-any.whl (77 kB)\n",
            "\u001b[2K   \u001b[90m━━━━━━━━━━━━━━━━━━━━━━━━━━━━━━━━━━━━━━━━\u001b[0m \u001b[32m77.4/77.4 kB\u001b[0m \u001b[31m5.9 MB/s\u001b[0m eta \u001b[36m0:00:00\u001b[0m\n",
            "\u001b[?25hDownloading asdfghjkl-0.1a4-py3-none-any.whl (89 kB)\n",
            "\u001b[2K   \u001b[90m━━━━━━━━━━━━━━━━━━━━━━━━━━━━━━━━━━━━━━━━\u001b[0m \u001b[32m89.7/89.7 kB\u001b[0m \u001b[31m7.1 MB/s\u001b[0m eta \u001b[36m0:00:00\u001b[0m\n",
            "\u001b[?25hDownloading curvlinops_for_pytorch-2.0.1-py3-none-any.whl (67 kB)\n",
            "\u001b[2K   \u001b[90m━━━━━━━━━━━━━━━━━━━━━━━━━━━━━━━━━━━━━━━━\u001b[0m \u001b[32m67.4/67.4 kB\u001b[0m \u001b[31m5.4 MB/s\u001b[0m eta \u001b[36m0:00:00\u001b[0m\n",
            "\u001b[?25hDownloading backpack_for_pytorch-1.7.1-py3-none-any.whl (196 kB)\n",
            "\u001b[2K   \u001b[90m━━━━━━━━━━━━━━━━━━━━━━━━━━━━━━━━━━━━━━━━\u001b[0m \u001b[32m196.6/196.6 kB\u001b[0m \u001b[31m9.3 MB/s\u001b[0m eta \u001b[36m0:00:00\u001b[0m\n",
            "\u001b[?25hDownloading numpy-1.26.4-cp311-cp311-manylinux_2_17_x86_64.manylinux2014_x86_64.whl (18.3 MB)\n",
            "\u001b[2K   \u001b[90m━━━━━━━━━━━━━━━━━━━━━━━━━━━━━━━━━━━━━━━━\u001b[0m \u001b[32m18.3/18.3 MB\u001b[0m \u001b[31m87.6 MB/s\u001b[0m eta \u001b[36m0:00:00\u001b[0m\n",
            "\u001b[?25hDownloading nvidia_cublas_cu12-12.4.5.8-py3-none-manylinux2014_x86_64.whl (363.4 MB)\n",
            "\u001b[2K   \u001b[90m━━━━━━━━━━━━━━━━━━━━━━━━━━━━━━━━━━━━━━━━\u001b[0m \u001b[32m363.4/363.4 MB\u001b[0m \u001b[31m4.6 MB/s\u001b[0m eta \u001b[36m0:00:00\u001b[0m\n",
            "\u001b[?25hDownloading nvidia_cuda_cupti_cu12-12.4.127-py3-none-manylinux2014_x86_64.whl (13.8 MB)\n",
            "\u001b[2K   \u001b[90m━━━━━━━━━━━━━━━━━━━━━━━━━━━━━━━━━━━━━━━━\u001b[0m \u001b[32m13.8/13.8 MB\u001b[0m \u001b[31m82.7 MB/s\u001b[0m eta \u001b[36m0:00:00\u001b[0m\n",
            "\u001b[?25hDownloading nvidia_cuda_nvrtc_cu12-12.4.127-py3-none-manylinux2014_x86_64.whl (24.6 MB)\n",
            "\u001b[2K   \u001b[90m━━━━━━━━━━━━━━━━━━━━━━━━━━━━━━━━━━━━━━━━\u001b[0m \u001b[32m24.6/24.6 MB\u001b[0m \u001b[31m57.6 MB/s\u001b[0m eta \u001b[36m0:00:00\u001b[0m\n",
            "\u001b[?25hDownloading nvidia_cuda_runtime_cu12-12.4.127-py3-none-manylinux2014_x86_64.whl (883 kB)\n",
            "\u001b[2K   \u001b[90m━━━━━━━━━━━━━━━━━━━━━━━━━━━━━━━━━━━━━━━━\u001b[0m \u001b[32m883.7/883.7 kB\u001b[0m \u001b[31m37.5 MB/s\u001b[0m eta \u001b[36m0:00:00\u001b[0m\n",
            "\u001b[?25hDownloading nvidia_cudnn_cu12-9.1.0.70-py3-none-manylinux2014_x86_64.whl (664.8 MB)\n",
            "\u001b[2K   \u001b[90m━━━━━━━━━━━━━━━━━━━━━━━━━━━━━━━━━━━━━━━━\u001b[0m \u001b[32m664.8/664.8 MB\u001b[0m \u001b[31m2.9 MB/s\u001b[0m eta \u001b[36m0:00:00\u001b[0m\n",
            "\u001b[?25hDownloading nvidia_cufft_cu12-11.2.1.3-py3-none-manylinux2014_x86_64.whl (211.5 MB)\n",
            "\u001b[2K   \u001b[90m━━━━━━━━━━━━━━━━━━━━━━━━━━━━━━━━━━━━━━━━\u001b[0m \u001b[32m211.5/211.5 MB\u001b[0m \u001b[31m5.9 MB/s\u001b[0m eta \u001b[36m0:00:00\u001b[0m\n",
            "\u001b[?25hDownloading nvidia_curand_cu12-10.3.5.147-py3-none-manylinux2014_x86_64.whl (56.3 MB)\n",
            "\u001b[2K   \u001b[90m━━━━━━━━━━━━━━━━━━━━━━━━━━━━━━━━━━━━━━━━\u001b[0m \u001b[32m56.3/56.3 MB\u001b[0m \u001b[31m13.1 MB/s\u001b[0m eta \u001b[36m0:00:00\u001b[0m\n",
            "\u001b[?25hDownloading nvidia_cusolver_cu12-11.6.1.9-py3-none-manylinux2014_x86_64.whl (127.9 MB)\n",
            "\u001b[2K   \u001b[90m━━━━━━━━━━━━━━━━━━━━━━━━━━━━━━━━━━━━━━━━\u001b[0m \u001b[32m127.9/127.9 MB\u001b[0m \u001b[31m7.7 MB/s\u001b[0m eta \u001b[36m0:00:00\u001b[0m\n",
            "\u001b[?25hDownloading nvidia_cusparse_cu12-12.3.1.170-py3-none-manylinux2014_x86_64.whl (207.5 MB)\n",
            "\u001b[2K   \u001b[90m━━━━━━━━━━━━━━━━━━━━━━━━━━━━━━━━━━━━━━━━\u001b[0m \u001b[32m207.5/207.5 MB\u001b[0m \u001b[31m5.9 MB/s\u001b[0m eta \u001b[36m0:00:00\u001b[0m\n",
            "\u001b[?25hDownloading nvidia_nvjitlink_cu12-12.4.127-py3-none-manylinux2014_x86_64.whl (21.1 MB)\n",
            "\u001b[2K   \u001b[90m━━━━━━━━━━━━━━━━━━━━━━━━━━━━━━━━━━━━━━━━\u001b[0m \u001b[32m21.1/21.1 MB\u001b[0m \u001b[31m86.9 MB/s\u001b[0m eta \u001b[36m0:00:00\u001b[0m\n",
            "\u001b[?25hDownloading torchmetrics-1.7.1-py3-none-any.whl (961 kB)\n",
            "\u001b[2K   \u001b[90m━━━━━━━━━━━━━━━━━━━━━━━━━━━━━━━━━━━━━━━━\u001b[0m \u001b[32m961.5/961.5 kB\u001b[0m \u001b[31m48.5 MB/s\u001b[0m eta \u001b[36m0:00:00\u001b[0m\n",
            "\u001b[?25hDownloading lightning_utilities-0.14.3-py3-none-any.whl (28 kB)\n",
            "Downloading unfoldNd-0.2.3-py3-none-any.whl (16 kB)\n",
            "Downloading einconv-0.1.0-py3-none-any.whl (27 kB)\n",
            "Installing collected packages: nvidia-nvjitlink-cu12, nvidia-curand-cu12, nvidia-cufft-cu12, nvidia-cuda-runtime-cu12, nvidia-cuda-nvrtc-cu12, nvidia-cuda-cupti-cu12, nvidia-cublas-cu12, numpy, lightning-utilities, nvidia-cusparse-cu12, nvidia-cudnn-cu12, nvidia-cusolver-cu12, unfoldNd, torchmetrics, einconv, asdfghjkl, backpack-for-pytorch, curvlinops-for-pytorch, laplace-torch\n",
            "  Attempting uninstall: nvidia-nvjitlink-cu12\n",
            "    Found existing installation: nvidia-nvjitlink-cu12 12.5.82\n",
            "    Uninstalling nvidia-nvjitlink-cu12-12.5.82:\n",
            "      Successfully uninstalled nvidia-nvjitlink-cu12-12.5.82\n",
            "  Attempting uninstall: nvidia-curand-cu12\n",
            "    Found existing installation: nvidia-curand-cu12 10.3.6.82\n",
            "    Uninstalling nvidia-curand-cu12-10.3.6.82:\n",
            "      Successfully uninstalled nvidia-curand-cu12-10.3.6.82\n",
            "  Attempting uninstall: nvidia-cufft-cu12\n",
            "    Found existing installation: nvidia-cufft-cu12 11.2.3.61\n",
            "    Uninstalling nvidia-cufft-cu12-11.2.3.61:\n",
            "      Successfully uninstalled nvidia-cufft-cu12-11.2.3.61\n",
            "  Attempting uninstall: nvidia-cuda-runtime-cu12\n",
            "    Found existing installation: nvidia-cuda-runtime-cu12 12.5.82\n",
            "    Uninstalling nvidia-cuda-runtime-cu12-12.5.82:\n",
            "      Successfully uninstalled nvidia-cuda-runtime-cu12-12.5.82\n",
            "  Attempting uninstall: nvidia-cuda-nvrtc-cu12\n",
            "    Found existing installation: nvidia-cuda-nvrtc-cu12 12.5.82\n",
            "    Uninstalling nvidia-cuda-nvrtc-cu12-12.5.82:\n",
            "      Successfully uninstalled nvidia-cuda-nvrtc-cu12-12.5.82\n",
            "  Attempting uninstall: nvidia-cuda-cupti-cu12\n",
            "    Found existing installation: nvidia-cuda-cupti-cu12 12.5.82\n",
            "    Uninstalling nvidia-cuda-cupti-cu12-12.5.82:\n",
            "      Successfully uninstalled nvidia-cuda-cupti-cu12-12.5.82\n",
            "  Attempting uninstall: nvidia-cublas-cu12\n",
            "    Found existing installation: nvidia-cublas-cu12 12.5.3.2\n",
            "    Uninstalling nvidia-cublas-cu12-12.5.3.2:\n",
            "      Successfully uninstalled nvidia-cublas-cu12-12.5.3.2\n",
            "  Attempting uninstall: numpy\n",
            "    Found existing installation: numpy 2.0.2\n",
            "    Uninstalling numpy-2.0.2:\n",
            "      Successfully uninstalled numpy-2.0.2\n",
            "  Attempting uninstall: nvidia-cusparse-cu12\n",
            "    Found existing installation: nvidia-cusparse-cu12 12.5.1.3\n",
            "    Uninstalling nvidia-cusparse-cu12-12.5.1.3:\n",
            "      Successfully uninstalled nvidia-cusparse-cu12-12.5.1.3\n",
            "  Attempting uninstall: nvidia-cudnn-cu12\n",
            "    Found existing installation: nvidia-cudnn-cu12 9.3.0.75\n",
            "    Uninstalling nvidia-cudnn-cu12-9.3.0.75:\n",
            "      Successfully uninstalled nvidia-cudnn-cu12-9.3.0.75\n",
            "  Attempting uninstall: nvidia-cusolver-cu12\n",
            "    Found existing installation: nvidia-cusolver-cu12 11.6.3.83\n",
            "    Uninstalling nvidia-cusolver-cu12-11.6.3.83:\n",
            "      Successfully uninstalled nvidia-cusolver-cu12-11.6.3.83\n",
            "\u001b[31mERROR: pip's dependency resolver does not currently take into account all the packages that are installed. This behaviour is the source of the following dependency conflicts.\n",
            "thinc 8.3.6 requires numpy<3.0.0,>=2.0.0, but you have numpy 1.26.4 which is incompatible.\u001b[0m\u001b[31m\n",
            "\u001b[0mSuccessfully installed asdfghjkl-0.1a4 backpack-for-pytorch-1.7.1 curvlinops-for-pytorch-2.0.1 einconv-0.1.0 laplace-torch-0.2.2.2 lightning-utilities-0.14.3 numpy-1.26.4 nvidia-cublas-cu12-12.4.5.8 nvidia-cuda-cupti-cu12-12.4.127 nvidia-cuda-nvrtc-cu12-12.4.127 nvidia-cuda-runtime-cu12-12.4.127 nvidia-cudnn-cu12-9.1.0.70 nvidia-cufft-cu12-11.2.1.3 nvidia-curand-cu12-10.3.5.147 nvidia-cusolver-cu12-11.6.1.9 nvidia-cusparse-cu12-12.3.1.170 nvidia-nvjitlink-cu12-12.4.127 torchmetrics-1.7.1 unfoldNd-0.2.3\n"
          ]
        }
      ],
      "source": [
        "!pip install laplace-torch\n",
        "from laplace import Laplace"
      ]
    },
    {
      "cell_type": "markdown",
      "metadata": {
        "id": "Ql9vxE4EZFq5"
      },
      "source": [
        "## 2.1 Preparing the dataset\n",
        "\n",
        "We work with the MNIST dataset."
      ]
    },
    {
      "cell_type": "code",
      "execution_count": 12,
      "metadata": {
        "id": "Ef2Rt5ZEX3lG",
        "colab": {
          "base_uri": "https://localhost:8080/",
          "height": 911
        },
        "outputId": "2f0f2c3c-464b-4c94-e21d-3b1a5b11385e"
      },
      "outputs": [
        {
          "output_type": "stream",
          "name": "stderr",
          "text": [
            "100%|██████████| 9.91M/9.91M [00:00<00:00, 40.0MB/s]\n",
            "100%|██████████| 28.9k/28.9k [00:00<00:00, 1.28MB/s]\n",
            "100%|██████████| 1.65M/1.65M [00:00<00:00, 10.4MB/s]\n",
            "100%|██████████| 4.54k/4.54k [00:00<00:00, 6.00MB/s]\n"
          ]
        },
        {
          "output_type": "display_data",
          "data": {
            "text/plain": [
              "<Figure size 800x800 with 9 Axes>"
            ],
            "image/png": "[encoded data removed]"
          },
          "metadata": {}
        },
        {
          "output_type": "stream",
          "name": "stdout",
          "text": [
            "Total training samples: 60000\n",
            "Total test samples: 10000\n"
          ]
        }
      ],
      "source": [
        "from data import get_data, prepare_data_loaders\n",
        "\n",
        "# Get preprocessed MNIST data\n",
        "data = get_data()\n",
        "\n",
        "# Create PyTorch DataLoaders\n",
        "train_loader, test_loader = prepare_data_loaders(data, batch_size=64)\n",
        "\n",
        "# Function to display a grid of images\n",
        "def display_mnist_samples(images, labels, grid_size=(3, 3)):\n",
        "    fig, axes = plt.subplots(grid_size[0], grid_size[1], figsize=(8, 8))\n",
        "\n",
        "    for i, ax in enumerate(axes.flat):\n",
        "        if i < len(images):\n",
        "            # Remove the extra dimension and display the image\n",
        "            ax.imshow(images[i].squeeze(), cmap='gray')\n",
        "            # Get the original label (not one-hot encoded)\n",
        "            label = np.argmax(labels[i])\n",
        "            ax.set_title(f\"Digit: {label}\")\n",
        "            ax.axis('off')\n",
        "\n",
        "    plt.tight_layout()\n",
        "    plt.show()\n",
        "\n",
        "# Display a few samples from the training set\n",
        "num_samples = 9\n",
        "indices = np.random.choice(len(data.x_train), num_samples, replace=False)\n",
        "sample_images = data.x_train[indices]\n",
        "sample_labels = data.y_train[indices]\n",
        "\n",
        "# Display the images\n",
        "display_mnist_samples(sample_images, sample_labels)\n",
        "\n",
        "# Print some information about the dataset\n",
        "print(f\"Total training samples: {len(data.x_train)}\")\n",
        "print(f\"Total test samples: {len(data.x_test)}\")"
      ]
    },
    {
      "cell_type": "markdown",
      "metadata": {
        "id": "dwDVDhuTebhP"
      },
      "source": [
        "## 2.2 Defining the model\n",
        "\n",
        "We can now define our model. We will use a small, simple Convolutional Neural Network with dropout as shown below:\n",
        "\n",
        "```\n",
        "class MNISTModel(nn.Module):\n",
        "    def __init__(self):\n",
        "        super(MNISTModel, self).__init__()\n",
        "        self.conv_layers = nn.Sequential(\n",
        "            nn.Conv2d(1, 32, kernel_size=4, padding=0),\n",
        "            nn.ReLU(),\n",
        "            nn.Conv2d(32, 32, kernel_size=4, padding=0),\n",
        "            nn.ReLU(),\n",
        "            nn.MaxPool2d(kernel_size=2),\n",
        "            nn.Dropout(0.25)\n",
        "        )\n",
        "\n",
        "        self.fc_layers = nn.Sequential(\n",
        "            nn.Linear(3872, 128),\n",
        "            nn.ReLU(),\n",
        "            nn.Dropout(0.5),\n",
        "            nn.Linear(128, 10)\n",
        "        )\n",
        "\n",
        "    def forward(self, x):\n",
        "        x = x.permute(0, 3, 1, 2)\n",
        "        x = self.conv_layers(x)\n",
        "        x = torch.flatten(x, 1)\n",
        "        x = self.fc_layers(x)\n",
        "        return x\n",
        "\n",
        "def build_model():\n",
        "    model = MNISTModel()\n",
        "    return model\n",
        "\n",
        "```\n",
        "This network model has been defined in the file `model.py` and we will call it later."
      ]
    },
    {
      "cell_type": "markdown",
      "metadata": {
        "id": "qJtxVA7Qm3oz"
      },
      "source": [
        "## 2.3 Defining the uncertainty functions\n",
        "\n",
        "### 2.3.1 Epistemic or knowledge uncertainty\n",
        "\n",
        "We will use epistemic uncertainty (also called knowledge\n",
        "uncertainty) as one of our main uncertainty functions to acquire new\n",
        "samples. Let us define the function to compute epistemic uncertainty\n",
        "over our predictions.\n",
        "\n",
        "We define the followoing terms and notations:\n",
        "- $\\omega$: Model parameters (weights and biases)\n",
        "- $p(y = c|x, \\omega)$: Probability of input $x$ belonging to class $c$ with model parameters $\\omega$\n",
        "- $q_\\theta^*(\\omega)$: Approximate posterior distribution over model parameters\n",
        "- $\\hat{\\omega}_t \\sim q_\\theta^*(\\omega)$: A sample of weights drawn from the approximate posterior\n",
        "- $\\hat{p}_c^t = p(y = c|x, \\hat{\\omega}_t)$: Predicted probability for class $c$ using sampled weights $\\hat{\\omega}_t$ in MC dropout\n",
        "- $T$: Total number of Monte Carlo dropout forward passes\n",
        "- $C$: Number of classes\n",
        "\n",
        "### Total Uncertainty\n",
        "\n",
        "The total predictive uncertainty is captured by the entropy of the expected predictive distribution (Max Entropy, (Shannon, 1948)):\n",
        "\n",
        "$$H[y|x, D_{\\text{train}}] = -\\sum_{c} p(y = c|x, D_{\\text{train}}) \\log p(y = c|x, D_{\\text{train}})$$\n",
        "\n",
        "This can be approximated using $T$ forward passes with MC dropout:\n",
        "\n",
        "$$H[y|x, D_{\\text{train}}] \\approx -\\sum_{c} \\left(\\frac{1}{T}\\sum_{t=1}^{T} \\hat{p}_c^t\\right) \\log \\left(\\frac{1}{T}\\sum_{t=1}^{T} \\hat{p}_c^t\\right)$$\n",
        "\n",
        "### Data Uncertainty (Aleatoric)\n",
        "\n",
        "Data uncertainty represents the inherent noise in the data, approximated as the expected entropy of individual predictions (Gal, 2016, pp. 48–52):\n",
        "\n",
        "$$E_{p(\\omega|D_{\\text{train}})}[H[y|x, \\omega]] \\approx \\frac{1}{T}\\sum_{t=1}^{T} \\left(-\\sum_{c} \\hat{p}_c^t \\log \\hat{p}_c^t\\right)$$\n",
        "\n",
        "### Knowledge Uncertainty (Epistemic)\n",
        "\n",
        "Knowledge uncertainty is the mutual information between predictions and model posterior, which is the BALD acquisition function (Houlsby et al., 2011) in the paper (which is Total `Uncertainty` - `Data Uncertainty`) :\n",
        "\n",
        "$$I[y, \\omega|x, D_{\\text{train}}] = H[y|x, D_{\\text{train}}] - E_{p(\\omega|D_{\\text{train}})}[H[y|x, \\omega]]$$\n",
        "\n",
        "This quantity represents the uncertainty in the model parameters, which can be reduced by acquiring more data. This is why it serves as an effective acquisition function for active learning.\n",
        "\n"
      ]
    },
    {
      "cell_type": "markdown",
      "metadata": {
        "id": "hX6dZv9docfe"
      },
      "source": [
        "Knowledge uncertainty will be used as acquisition function in the active learning loop. To compute it, we first need the weights obtained through MC dropout.\n",
        "\n",
        "`get_mc_predictions` uses MC droupout to generate the necessary prediction distribution (multiple predictions per sample) that the uncertainty functions need as input. It creates the `preds` tensor $\\hat{p}_c^t$ with shape (n_samples, n_mc_passes, n_classes) that is directly passed to `total_uncertainty`, `data_uncertainty`, and `knowledge_uncertainty`. Without these stochastic samples $\\hat{p}_c^t$ from dropout, we could not calculate these different uncertainty types for active learning sample selection."
      ]
    },
    {
      "cell_type": "code",
      "execution_count": 13,
      "metadata": {
        "id": "g5l4I5AKea0e"
      },
      "outputs": [],
      "source": [
        "def get_mc_predictions(model: nn.Module, n_iter: int, x_train: torch.Tensor) -> torch.Tensor:\n",
        "    device = next(model.parameters()).device\n",
        "    preds = []\n",
        "    # Set model to training mode to enable dropout\n",
        "    model.train()\n",
        "    with torch.no_grad():\n",
        "        for _ in tqdm(range(n_iter)):\n",
        "            # Split data into batches\n",
        "            preds_iter = []\n",
        "            for batch in torch.chunk(x_train, chunks=6):\n",
        "                batch = batch.to(device)\n",
        "                # Ensure input is float and has correct shape (add channel dim if needed)\n",
        "                if len(batch.shape) == 3:\n",
        "                    batch = batch.unsqueeze(1)\n",
        "                preds_iter.append(model(batch))\n",
        "            # Concatenate batch predictions\n",
        "            preds.append(torch.cat(preds_iter, dim=0))\n",
        "    # Stack predictions and move axes to get (n_images, n_predictions, n_classes)\n",
        "    preds = torch.stack(preds, dim=1)\n",
        "    return preds"
      ]
    },
    {
      "cell_type": "markdown",
      "metadata": {
        "id": "kRBdrvHJrxa5"
      },
      "source": [
        "**Question 3 (10 marks)**\n",
        "\n",
        "Write the code for the functions `data_uncertainty` and `total_uncertainty` below"
      ]
    },
    {
      "cell_type": "markdown",
      "metadata": {
        "id": "NIFIwo0vsZ9O"
      },
      "source": [
        "*Solution*"
      ]
    },
    {
      "cell_type": "code",
      "execution_count": 14,
      "metadata": {
        "id": "fUTwyZ5gsb8v"
      },
      "outputs": [],
      "source": [
        "def total_uncertainty(preds: torch.Tensor, epsilon: float = 1e-10) -> torch.Tensor:\n",
        "    mean_preds = preds.mean(dim=1)\n",
        "    entropy_mean = -torch.sum(mean_preds * torch.log(mean_preds + 1e-12), dim=1)\n",
        "    return entropy_mean\n",
        "\n",
        "def data_uncertainty(preds: torch.Tensor, epsilon: float = 1e-10) -> torch.Tensor:\n",
        "    entropy_per_pass = -torch.sum(preds * torch.log(preds + 1e-12), dim=2)\n",
        "    mean_entropy = entropy_per_pass.mean(dim=1)\n",
        "    return mean_entropy\n",
        "\n",
        "def knowledge_uncertainty(preds: torch.Tensor, epsilon: float = 1e-10) -> torch.Tensor:\n",
        "    # Knowledge uncertainty is the difference between total and data uncertainty\n",
        "    return total_uncertainty(preds, epsilon) - data_uncertainty(preds, epsilon)"
      ]
    },
    {
      "cell_type": "markdown",
      "metadata": {
        "id": "wj1R4fJVunBJ"
      },
      "source": [
        "The acquisition function that uses the knowledge uncertainty function can be summarised in three steps\n",
        "1. Obtain an ensemble of predictions via MC dropout (done by `get_mc_predictions`).\n",
        "2. Compute the knowledge uncertainty values over this prediction\n",
        "ensemble (use `knowledge_uncertainty` function).\n",
        "3. Sort the uncertainty values, get their index and return the\n",
        "indices of the data in the pool with the highest epistemic\n",
        "uncertainty."
      ]
    },
    {
      "cell_type": "code",
      "execution_count": 15,
      "metadata": {
        "id": "1xoliVEgvDjE"
      },
      "outputs": [],
      "source": [
        "def acquire_knowledge_uncertainty(\n",
        "    x_train: torch.Tensor, n_samples: int, model: nn.Module, n_iter: int, *args, **kwargs\n",
        "):\n",
        "    # Get Monte Carlo predictions\n",
        "    preds = get_mc_predictions(model, n_iter, x_train)\n",
        "    # Compute knowledge uncertainty\n",
        "    ku = knowledge_uncertainty(preds)\n",
        "    # Get indices of samples with highest uncertainty\n",
        "    _, indices = torch.topk(ku, n_samples)\n",
        "    return indices.cpu().numpy()"
      ]
    },
    {
      "cell_type": "markdown",
      "metadata": {
        "id": "cZ2sLahwvb2G"
      },
      "source": [
        "### 2.3.2 Laplace uncertainty\n",
        "\n",
        "Rather than using MC dropout to compute samples on the parameters of the neural network, we can use a Laplace approximation, which approximates the posterior distribution of the parameters using a Gaussian distribution.\n",
        "\n",
        "The predictive distribution under a Bayesian approach (Gal, 2016) can be written as:\n",
        "\n",
        "$$p(y=c|x, D_{train}) = \\int p(y=c|x, \\omega)p(\\omega|D_{train})d\\omega.$$\n",
        "\n",
        "With Laplace approximation, we approximate the posterior $p(\\omega|D_{train})$ with a **Gaussian distribution** $N$ centered at the MAP estimate:\n",
        "\n",
        "$$p(\\omega|D_{train}) \\approx N(\\omega|\\omega_{MAP}, \\Sigma_{post}),$$\n",
        "\n",
        "where:\n",
        "- $\\omega_{MAP}$ is the maximum a posteriori estimate of the parameters\n",
        "- $\\Sigma_{post}$ is the covariance matrix computed at $\\omega_{MAP}$.\n",
        "\n",
        "We can then use this posterior distribution and the probit likelihood to approximate the posterior probabilities over the classes.\n",
        "\n",
        "Computing the Laplace approximation for a posterior distribution of a neural network is cumbersome in general. Here, we use a recent package known as [Laplace that allows to compute the posterior distribution effortlessly](https://github.com/AlexImmer/Laplace).\n",
        "\n",
        "### Uncertainty Measure for Acquisition when using the Laplace approximation\n",
        "\n",
        "We use Max Entropy (Shannon, 1948) as an uncertainty measure in this case:\n",
        "\n",
        "$$H[y|x, D_{train}] := -\\sum_{c} p(y=c|x, D_{train}) \\log p(y=c|x, D_{train})$$\n",
        "\n",
        "This acquisition function selects pool points that maximize the predictive entropy.\n",
        "\n",
        "The acquisition function that uses the max entropy with Laplace approximation can be summarised in three steps\n",
        "1. Obtain the predictions under the posterior distribution via Laplace approximation.\n",
        "2. Compute the max entropy values for the datapoints in the pool.\n",
        "3. Sort the uncertainty values, get their index and return the\n",
        "indices of the data in the pool with the highest epistemic\n",
        "uncertainty."
      ]
    },
    {
      "cell_type": "markdown",
      "metadata": {
        "id": "b79xKKJ_y28d"
      },
      "source": [
        "**Question 4 (10 marks)**\n",
        "\n",
        "The following acquisition function implements the three steps above. Write the code for steps 1 and 2."
      ]
    },
    {
      "cell_type": "markdown",
      "metadata": {
        "id": "HrKP59HFzY3a"
      },
      "source": [
        "*Solution*"
      ]
    },
    {
      "cell_type": "code",
      "execution_count": 16,
      "metadata": {
        "id": "vel9qdWnzetR"
      },
      "outputs": [],
      "source": [
        "def acquire_laplace_uncertainty(\n",
        "    unlabeled_tensor: torch.Tensor, n_samples: int, la_model: Laplace) -> np.ndarray:\n",
        "    try:\n",
        "        # Step 1: Predict probabilities with error handling\n",
        "        #\n",
        "        preds = la_model.predictive_samples(unlabeled_tensor, n_samples=1000).mean(0)\n",
        "        # Convert to numpy with checks\n",
        "        try:\n",
        "            preds_np = preds.numpy()\n",
        "        except Exception:\n",
        "            preds_np = preds.detach().cpu().numpy()\n",
        "\n",
        "        # Step 2: Entropy calculation\n",
        "        #\n",
        "        #\n",
        "        uncertainty = -np.sum(preds_np * np.log(preds_np + 1e-12), axis=1)\n",
        "\n",
        "        # Step 3: Select indices with highest uncertainty\n",
        "        indices = np.argsort(uncertainty)[-n_samples:]\n",
        "        return indices\n",
        "\n",
        "    except Exception as e:\n",
        "        print(f\"Laplace Acquisition Error: {e}\")\n",
        "        # Fallback to random sampling\n",
        "        return np.random.choice(len(unlabeled_tensor), n_samples, replace=False)"
      ]
    },
    {
      "cell_type": "markdown",
      "metadata": {
        "id": "M4kW5teXvV0G"
      },
      "source": [
        "### 2.3.3 Random selection\n",
        "\n",
        "The simplest approach to select a datapoint from the pool is to do it randomly"
      ]
    },
    {
      "cell_type": "code",
      "execution_count": 17,
      "metadata": {
        "id": "BcYSrEflv6yB"
      },
      "outputs": [],
      "source": [
        "def acquire_random(x_train: torch.Tensor, n_samples: int, *args, **kwargs) -> np.ndarray:\n",
        "    # Randomly select samples\n",
        "    return torch.randperm(len(x_train))[:n_samples].numpy()"
      ]
    },
    {
      "cell_type": "markdown",
      "metadata": {
        "id": "CBxvOwlC0VF9"
      },
      "source": [
        "### 2.3.4 A battery of acquisition functions\n",
        "\n",
        "We can group the three acquisition functions above in a function,"
      ]
    },
    {
      "cell_type": "code",
      "execution_count": 18,
      "metadata": {
        "id": "-9XaUHhP0i9I"
      },
      "outputs": [],
      "source": [
        "def acquisition_factory(acquisition_type: str) -> Callable:\n",
        "    if acquisition_type == \"laplace_uncertainty\":\n",
        "        return acquire_laplace_uncertainty\n",
        "    if acquisition_type == \"knowledge_uncertainty\":\n",
        "        return acquire_knowledge_uncertainty\n",
        "    elif acquisition_type == \"random\":\n",
        "        return acquire_random\n",
        "    else:\n",
        "        raise ValueError(f\"Acquisition type {acquisition_type} not supported\")"
      ]
    },
    {
      "cell_type": "markdown",
      "metadata": {
        "id": "tKVgY-nj1FNy"
      },
      "source": [
        "Now that we have defined our acquisition functions, we are ready\n",
        "to define the loop that runs the active learning iterations."
      ]
    },
    {
      "cell_type": "markdown",
      "metadata": {
        "id": "EXLq8vB71Sdy"
      },
      "source": [
        "## 2.4 Main Loop for Active Learning\n",
        "\n",
        "We will start our dataset with 20 samples until we reach a total of 500 samples. Each model will be trained for 25 epochs and per iteration, we acquire 10 samples. To obtain our MC dropout predictions, we will run over\n",
        "our full training set (minus the already acquired samples) 48 times.\n",
        "\n",
        "It will take you approx. 1 hour to finish the active learning loop using standard colab T4 GPU."
      ]
    },
    {
      "cell_type": "code",
      "execution_count": 19,
      "metadata": {
        "id": "3h0GbKNr07QC"
      },
      "outputs": [],
      "source": [
        "import main\n",
        "main.acquisition_factory= acquisition_factory #Put your acquisition functions inside the main module\n",
        "from main import Active_learning"
      ]
    },
    {
      "cell_type": "code",
      "execution_count": 20,
      "metadata": {
        "id": "d0-JRBWt51ar",
        "colab": {
          "base_uri": "https://localhost:8080/",
          "height": 1000
        },
        "outputId": "17ba4530-b7f9-4764-a509-fcb9088577db"
      },
      "outputs": [
        {
          "metadata": {
            "tags": null
          },
          "name": "stdout",
          "output_type": "stream",
          "text": [
            "Using device: cpu\n",
            "Model directory: models/laplace_uncertainty/f495ac8f-2dd6-45f4-8142-5ac2d4c0ddb4\n",
            "Laplace_Uncertainty Iteration 1/48\n",
            "Epoch 1/50 - Loss: 2.3037 - Acc: 0.0000 - Val Loss: 2.2881 - Val Acc: 0.1737\n",
            "Epoch 25/50 - Loss: 0.3443 - Acc: 0.8500 - Val Loss: 2.0637 - Val Acc: 0.5400\n",
            "Epoch 50/50 - Loss: 0.0467 - Acc: 1.0000 - Val Loss: 2.5550 - Val Acc: 0.5379\n",
            "Laplace approximation fitted\n",
            "Iteration 1: Added 10 samples - Accuracy: 53.79%\n",
            "Laplace_Uncertainty Iteration 2/48\n",
            "Epoch 1/50 - Loss: 2.3125 - Acc: 0.1667 - Val Loss: 2.2939 - Val Acc: 0.1280\n",
            "Epoch 25/50 - Loss: 0.1497 - Acc: 0.9667 - Val Loss: 1.7968 - Val Acc: 0.5454\n",
            "Epoch 50/50 - Loss: 0.0185 - Acc: 1.0000 - Val Loss: 2.3548 - Val Acc: 0.5740\n",
            "Laplace approximation fitted\n",
            "Iteration 2: Added 10 samples - Accuracy: 57.40%\n",
            "Laplace_Uncertainty Iteration 3/48\n",
            "Epoch 1/50 - Loss: 2.3096 - Acc: 0.1000 - Val Loss: 2.2937 - Val Acc: 0.1009\n",
            "Epoch 25/50 - Loss: 0.1792 - Acc: 0.9750 - Val Loss: 1.2866 - Val Acc: 0.6421\n",
            "Epoch 50/50 - Loss: 0.0830 - Acc: 0.9500 - Val Loss: 1.5479 - Val Acc: 0.6766\n",
            "Laplace approximation fitted\n",
            "Iteration 3: Added 10 samples - Accuracy: 67.66%\n",
            "Laplace_Uncertainty Iteration 4/48\n",
            "Epoch 1/50 - Loss: 2.2877 - Acc: 0.1200 - Val Loss: 2.3029 - Val Acc: 0.1009\n",
            "Epoch 25/50 - Loss: 0.0792 - Acc: 0.9800 - Val Loss: 1.4871 - Val Acc: 0.6290\n",
            "Epoch 50/50 - Loss: 0.0246 - Acc: 1.0000 - Val Loss: 1.7044 - Val Acc: 0.6503\n",
            "Laplace approximation fitted\n",
            "Iteration 4: Added 10 samples - Accuracy: 65.03%\n",
            "Laplace_Uncertainty Iteration 5/48\n",
            "Epoch 1/50 - Loss: 2.2407 - Acc: 0.2000 - Val Loss: 2.3533 - Val Acc: 0.1009\n",
            "Epoch 25/50 - Loss: 0.0890 - Acc: 1.0000 - Val Loss: 1.3606 - Val Acc: 0.6462\n",
            "Epoch 50/50 - Loss: 0.0094 - Acc: 1.0000 - Val Loss: 1.6915 - Val Acc: 0.6466\n",
            "Laplace approximation fitted\n",
            "Iteration 5: Added 10 samples - Accuracy: 64.66%\n",
            "Laplace_Uncertainty Iteration 6/48\n",
            "Epoch 1/50 - Loss: 2.1194 - Acc: 0.3143 - Val Loss: 3.0915 - Val Acc: 0.1009\n",
            "Epoch 25/50 - Loss: 0.1275 - Acc: 0.9857 - Val Loss: 1.1805 - Val Acc: 0.6595\n",
            "Epoch 50/50 - Loss: 0.0203 - Acc: 1.0000 - Val Loss: 1.6810 - Val Acc: 0.6761\n",
            "Laplace approximation fitted\n",
            "Iteration 6: Added 10 samples - Accuracy: 67.61%\n",
            "Laplace_Uncertainty Iteration 7/48\n",
            "Epoch 1/50 - Loss: 2.2349 - Acc: 0.2125 - Val Loss: 2.4082 - Val Acc: 0.1009\n",
            "Epoch 25/50 - Loss: 0.1664 - Acc: 0.9375 - Val Loss: 1.3952 - Val Acc: 0.6261\n",
            "Epoch 50/50 - Loss: 0.0313 - Acc: 0.9875 - Val Loss: 1.4727 - Val Acc: 0.6832\n",
            "Laplace approximation fitted\n",
            "Iteration 7: Added 10 samples - Accuracy: 68.32%\n",
            "Laplace_Uncertainty Iteration 8/48\n",
            "Epoch 1/50 - Loss: 2.1912 - Acc: 0.3222 - Val Loss: 2.4524 - Val Acc: 0.1009\n",
            "Epoch 25/50 - Loss: 0.0867 - Acc: 0.9778 - Val Loss: 1.4100 - Val Acc: 0.6359\n",
            "Epoch 50/50 - Loss: 0.0499 - Acc: 0.9889 - Val Loss: 1.9172 - Val Acc: 0.6135\n",
            "Laplace approximation fitted\n",
            "Iteration 8: Added 10 samples - Accuracy: 61.35%\n",
            "Laplace_Uncertainty Iteration 9/48\n",
            "Epoch 1/50 - Loss: 2.0338 - Acc: 0.4500 - Val Loss: 3.2374 - Val Acc: 0.1009\n",
            "Epoch 25/50 - Loss: 0.1953 - Acc: 0.9500 - Val Loss: 1.3761 - Val Acc: 0.5939\n",
            "Epoch 50/50 - Loss: 0.0740 - Acc: 0.9800 - Val Loss: 1.4985 - Val Acc: 0.5970\n",
            "Laplace approximation fitted\n",
            "Iteration 9: Added 10 samples - Accuracy: 59.70%\n",
            "Laplace_Uncertainty Iteration 10/48\n",
            "Epoch 1/50 - Loss: 2.0560 - Acc: 0.3818 - Val Loss: 3.0301 - Val Acc: 0.1009\n",
            "Epoch 25/50 - Loss: 0.0776 - Acc: 0.9909 - Val Loss: 1.2716 - Val Acc: 0.6603\n",
            "Epoch 50/50 - Loss: 0.0176 - Acc: 1.0000 - Val Loss: 1.5358 - Val Acc: 0.6552\n",
            "Laplace approximation fitted\n",
            "Iteration 10: Added 10 samples - Accuracy: 65.52%\n",
            "Laplace_Uncertainty Iteration 11/48\n",
            "Epoch 1/50 - Loss: 2.1074 - Acc: 0.2583 - Val Loss: 2.9082 - Val Acc: 0.1009\n",
            "Epoch 25/50 - Loss: 0.0915 - Acc: 0.9750 - Val Loss: 1.5231 - Val Acc: 0.6277\n",
            "Epoch 50/50 - Loss: 0.0233 - Acc: 1.0000 - Val Loss: 1.8539 - Val Acc: 0.6354\n",
            "Laplace approximation fitted\n",
            "Iteration 11: Added 10 samples - Accuracy: 63.54%\n",
            "Laplace_Uncertainty Iteration 12/48\n",
            "Epoch 1/50 - Loss: 2.0331 - Acc: 0.3154 - Val Loss: 3.6933 - Val Acc: 0.1009\n",
            "Epoch 25/50 - Loss: 0.1648 - Acc: 0.9385 - Val Loss: 1.4286 - Val Acc: 0.5960\n",
            "Epoch 50/50 - Loss: 0.0227 - Acc: 1.0000 - Val Loss: 1.7290 - Val Acc: 0.6316\n",
            "Laplace approximation fitted\n",
            "Iteration 12: Added 10 samples - Accuracy: 63.16%\n",
            "Laplace_Uncertainty Iteration 13/48\n",
            "Epoch 1/50 - Loss: 1.9591 - Acc: 0.3714 - Val Loss: 3.9762 - Val Acc: 0.1009\n",
            "Epoch 25/50 - Loss: 0.0955 - Acc: 0.9571 - Val Loss: 1.5050 - Val Acc: 0.6354\n",
            "Epoch 50/50 - Loss: 0.0371 - Acc: 0.9929 - Val Loss: 1.6875 - Val Acc: 0.6435\n",
            "Laplace approximation fitted\n",
            "Iteration 13: Added 10 samples - Accuracy: 64.35%\n",
            "Laplace_Uncertainty Iteration 14/48\n",
            "Epoch 1/50 - Loss: 2.0978 - Acc: 0.3200 - Val Loss: 2.6913 - Val Acc: 0.1009\n",
            "Epoch 25/50 - Loss: 0.0617 - Acc: 0.9867 - Val Loss: 1.4477 - Val Acc: 0.6383\n",
            "Epoch 50/50 - Loss: 0.0159 - Acc: 1.0000 - Val Loss: 2.1145 - Val Acc: 0.6219\n",
            "Laplace approximation fitted\n",
            "Iteration 14: Added 10 samples - Accuracy: 62.19%\n",
            "Laplace_Uncertainty Iteration 15/48\n",
            "Epoch 1/50 - Loss: 2.0014 - Acc: 0.2812 - Val Loss: 3.5180 - Val Acc: 0.1009\n",
            "Epoch 25/50 - Loss: 0.1171 - Acc: 0.9563 - Val Loss: 1.4052 - Val Acc: 0.6535\n",
            "Epoch 50/50 - Loss: 0.0356 - Acc: 0.9875 - Val Loss: 1.7436 - Val Acc: 0.6498\n",
            "Laplace approximation fitted\n",
            "Iteration 15: Added 10 samples - Accuracy: 64.98%\n",
            "Laplace_Uncertainty Iteration 16/48\n",
            "Epoch 1/50 - Loss: 2.0934 - Acc: 0.2471 - Val Loss: 3.3135 - Val Acc: 0.1009\n",
            "Epoch 25/50 - Loss: 0.0712 - Acc: 0.9824 - Val Loss: 1.7620 - Val Acc: 0.6024\n",
            "Epoch 50/50 - Loss: 0.0237 - Acc: 0.9882 - Val Loss: 2.2483 - Val Acc: 0.6066\n",
            "Laplace approximation fitted\n",
            "Iteration 16: Added 10 samples - Accuracy: 60.66%\n",
            "Laplace_Uncertainty Iteration 17/48\n",
            "Epoch 1/50 - Loss: 1.9676 - Acc: 0.3167 - Val Loss: 3.1088 - Val Acc: 0.1009\n",
            "Epoch 25/50 - Loss: 0.0471 - Acc: 0.9944 - Val Loss: 1.7055 - Val Acc: 0.6136\n",
            "Epoch 50/50 - Loss: 0.0140 - Acc: 0.9944 - Val Loss: 2.1132 - Val Acc: 0.6397\n",
            "Laplace approximation fitted\n",
            "Iteration 17: Added 10 samples - Accuracy: 63.97%\n",
            "Laplace_Uncertainty Iteration 18/48\n",
            "Epoch 1/50 - Loss: 2.1062 - Acc: 0.2737 - Val Loss: 2.7509 - Val Acc: 0.1009\n",
            "Epoch 25/50 - Loss: 0.1062 - Acc: 0.9684 - Val Loss: 1.3309 - Val Acc: 0.6812\n",
            "Epoch 50/50 - Loss: 0.0367 - Acc: 0.9947 - Val Loss: 1.6800 - Val Acc: 0.7025\n",
            "Laplace approximation fitted\n",
            "Iteration 18: Added 10 samples - Accuracy: 70.25%\n",
            "Laplace_Uncertainty Iteration 19/48\n",
            "Epoch 1/50 - Loss: 2.0656 - Acc: 0.3100 - Val Loss: 2.6170 - Val Acc: 0.1182\n",
            "Epoch 25/50 - Loss: 0.1251 - Acc: 0.9650 - Val Loss: 1.5118 - Val Acc: 0.6336\n",
            "Epoch 50/50 - Loss: 0.0396 - Acc: 0.9850 - Val Loss: 2.0588 - Val Acc: 0.6552\n",
            "Laplace approximation fitted\n",
            "Iteration 19: Added 10 samples - Accuracy: 65.52%\n",
            "Laplace_Uncertainty Iteration 20/48\n",
            "Epoch 1/50 - Loss: 1.9546 - Acc: 0.3476 - Val Loss: 3.8604 - Val Acc: 0.1029\n",
            "Epoch 25/50 - Loss: 0.0783 - Acc: 0.9762 - Val Loss: 1.6455 - Val Acc: 0.6434\n",
            "Epoch 50/50 - Loss: 0.0264 - Acc: 0.9905 - Val Loss: 2.2387 - Val Acc: 0.6583\n",
            "Laplace approximation fitted\n",
            "Iteration 20: Added 10 samples - Accuracy: 65.83%\n",
            "Laplace_Uncertainty Iteration 21/48\n",
            "Epoch 1/50 - Loss: 2.0149 - Acc: 0.3409 - Val Loss: 2.7966 - Val Acc: 0.1256\n",
            "Epoch 25/50 - Loss: 0.0545 - Acc: 0.9909 - Val Loss: 1.2888 - Val Acc: 0.7011\n",
            "Epoch 50/50 - Loss: 0.0341 - Acc: 0.9909 - Val Loss: 1.5019 - Val Acc: 0.7223\n",
            "Laplace approximation fitted\n",
            "Iteration 21: Added 10 samples - Accuracy: 72.23%\n",
            "Laplace_Uncertainty Iteration 22/48\n",
            "Epoch 1/50 - Loss: 2.0305 - Acc: 0.3130 - Val Loss: 2.5304 - Val Acc: 0.1028\n",
            "Epoch 25/50 - Loss: 0.1086 - Acc: 0.9609 - Val Loss: 1.3787 - Val Acc: 0.7031\n",
            "Epoch 50/50 - Loss: 0.0632 - Acc: 0.9739 - Val Loss: 1.7367 - Val Acc: 0.7244\n",
            "Laplace approximation fitted\n",
            "Iteration 22: Added 10 samples - Accuracy: 72.44%\n",
            "Laplace_Uncertainty Iteration 23/48\n",
            "Epoch 1/50 - Loss: 2.0094 - Acc: 0.2708 - Val Loss: 2.5744 - Val Acc: 0.1223\n",
            "Epoch 25/50 - Loss: 0.0536 - Acc: 0.9875 - Val Loss: 1.4515 - Val Acc: 0.7257\n",
            "Epoch 50/50 - Loss: 0.0276 - Acc: 0.9958 - Val Loss: 1.6877 - Val Acc: 0.7283\n",
            "Laplace approximation fitted\n",
            "Iteration 23: Added 10 samples - Accuracy: 72.83%\n",
            "Laplace_Uncertainty Iteration 24/48\n",
            "Epoch 1/50 - Loss: 2.0050 - Acc: 0.3160 - Val Loss: 2.6271 - Val Acc: 0.1693\n",
            "Epoch 25/50 - Loss: 0.1227 - Acc: 0.9600 - Val Loss: 1.3456 - Val Acc: 0.7046\n",
            "Epoch 50/50 - Loss: 0.0240 - Acc: 0.9920 - Val Loss: 1.3738 - Val Acc: 0.7442\n",
            "Laplace approximation fitted\n",
            "Iteration 24: Added 10 samples - Accuracy: 74.42%\n",
            "Laplace_Uncertainty Iteration 25/48\n",
            "Epoch 1/50 - Loss: 2.0311 - Acc: 0.2654 - Val Loss: 2.3379 - Val Acc: 0.1454\n",
            "Epoch 25/50 - Loss: 0.1019 - Acc: 0.9577 - Val Loss: 1.1359 - Val Acc: 0.7306\n",
            "Epoch 50/50 - Loss: 0.0251 - Acc: 0.9962 - Val Loss: 1.4744 - Val Acc: 0.7401\n",
            "Laplace approximation fitted\n",
            "Iteration 25: Added 10 samples - Accuracy: 74.01%\n",
            "Laplace_Uncertainty Iteration 26/48\n",
            "Epoch 1/50 - Loss: 2.0894 - Acc: 0.2519 - Val Loss: 2.4194 - Val Acc: 0.1281\n",
            "Epoch 25/50 - Loss: 0.0781 - Acc: 0.9704 - Val Loss: 1.3302 - Val Acc: 0.7196\n",
            "Epoch 50/50 - Loss: 0.0506 - Acc: 0.9778 - Val Loss: 1.6487 - Val Acc: 0.7179\n",
            "Laplace approximation fitted\n",
            "Iteration 26: Added 10 samples - Accuracy: 71.79%\n",
            "Laplace_Uncertainty Iteration 27/48\n",
            "Epoch 1/50 - Loss: 1.9923 - Acc: 0.3036 - Val Loss: 2.4898 - Val Acc: 0.1028\n",
            "Epoch 25/50 - Loss: 0.0812 - Acc: 0.9821 - Val Loss: 1.4022 - Val Acc: 0.7237\n",
            "Epoch 50/50 - Loss: 0.0140 - Acc: 1.0000 - Val Loss: 1.6138 - Val Acc: 0.7246\n",
            "Laplace approximation fitted\n",
            "Iteration 27: Added 10 samples - Accuracy: 72.46%\n",
            "Laplace_Uncertainty Iteration 28/48\n",
            "Epoch 1/50 - Loss: 1.9790 - Acc: 0.3069 - Val Loss: 2.5088 - Val Acc: 0.1545\n",
            "Epoch 25/50 - Loss: 0.0609 - Acc: 0.9793 - Val Loss: 1.2728 - Val Acc: 0.7314\n",
            "Epoch 50/50 - Loss: 0.0444 - Acc: 0.9897 - Val Loss: 1.3943 - Val Acc: 0.7501\n",
            "Laplace approximation fitted\n",
            "Iteration 28: Added 10 samples - Accuracy: 75.01%\n",
            "Laplace_Uncertainty Iteration 29/48\n",
            "Epoch 1/50 - Loss: 2.0146 - Acc: 0.2867 - Val Loss: 2.2731 - Val Acc: 0.1552\n",
            "Epoch 25/50 - Loss: 0.0760 - Acc: 0.9633 - Val Loss: 1.1064 - Val Acc: 0.7593\n",
            "Epoch 50/50 - Loss: 0.0281 - Acc: 0.9933 - Val Loss: 1.4002 - Val Acc: 0.7560\n",
            "Laplace approximation fitted\n",
            "Iteration 29: Added 10 samples - Accuracy: 75.60%\n",
            "Laplace_Uncertainty Iteration 30/48\n",
            "Epoch 1/50 - Loss: 1.9944 - Acc: 0.3194 - Val Loss: 2.3881 - Val Acc: 0.1571\n",
            "Epoch 25/50 - Loss: 0.0518 - Acc: 0.9710 - Val Loss: 0.9766 - Val Acc: 0.7837\n",
            "Epoch 50/50 - Loss: 0.0303 - Acc: 0.9903 - Val Loss: 1.0883 - Val Acc: 0.7924\n",
            "Laplace approximation fitted\n",
            "Iteration 30: Added 10 samples - Accuracy: 79.24%\n",
            "Laplace_Uncertainty Iteration 31/48\n",
            "Epoch 1/50 - Loss: 2.0804 - Acc: 0.3031 - Val Loss: 2.3392 - Val Acc: 0.1009\n",
            "Epoch 25/50 - Loss: 0.0528 - Acc: 0.9906 - Val Loss: 0.7783 - Val Acc: 0.8145\n",
            "Epoch 50/50 - Loss: 0.0313 - Acc: 0.9875 - Val Loss: 0.9007 - Val Acc: 0.8267\n",
            "Laplace approximation fitted\n",
            "Iteration 31: Added 10 samples - Accuracy: 82.67%\n",
            "Laplace_Uncertainty Iteration 32/48\n",
            "Epoch 1/50 - Loss: 2.0364 - Acc: 0.2939 - Val Loss: 2.3402 - Val Acc: 0.1317\n",
            "Epoch 25/50 - Loss: 0.0596 - Acc: 0.9788 - Val Loss: 0.5869 - Val Acc: 0.8485\n",
            "Epoch 50/50 - Loss: 0.0053 - Acc: 1.0000 - Val Loss: 0.7489 - Val Acc: 0.8499\n",
            "Laplace approximation fitted\n",
            "Iteration 32: Added 10 samples - Accuracy: 84.99%\n",
            "Laplace_Uncertainty Iteration 33/48\n",
            "Epoch 1/50 - Loss: 2.0013 - Acc: 0.2647 - Val Loss: 2.4218 - Val Acc: 0.1737\n",
            "Epoch 25/50 - Loss: 0.0594 - Acc: 0.9794 - Val Loss: 0.7269 - Val Acc: 0.8300\n",
            "Epoch 50/50 - Loss: 0.0400 - Acc: 0.9941 - Val Loss: 0.7042 - Val Acc: 0.8471\n",
            "Laplace approximation fitted\n",
            "Iteration 33: Added 10 samples - Accuracy: 84.71%\n",
            "Laplace_Uncertainty Iteration 34/48\n",
            "Epoch 1/50 - Loss: 2.0033 - Acc: 0.2829 - Val Loss: 2.3070 - Val Acc: 0.1771\n",
            "Epoch 25/50 - Loss: 0.0570 - Acc: 0.9857 - Val Loss: 0.5778 - Val Acc: 0.8523\n",
            "Epoch 50/50 - Loss: 0.0271 - Acc: 0.9971 - Val Loss: 0.7177 - Val Acc: 0.8546\n",
            "Laplace approximation fitted\n",
            "Iteration 34: Added 10 samples - Accuracy: 85.46%\n",
            "Laplace_Uncertainty Iteration 35/48\n",
            "Epoch 1/50 - Loss: 1.9616 - Acc: 0.2972 - Val Loss: 2.4677 - Val Acc: 0.1824\n",
            "Epoch 25/50 - Loss: 0.0352 - Acc: 0.9944 - Val Loss: 0.6828 - Val Acc: 0.8435\n",
            "Epoch 50/50 - Loss: 0.0243 - Acc: 0.9861 - Val Loss: 0.7668 - Val Acc: 0.8447\n",
            "Laplace approximation fitted\n",
            "Iteration 35: Added 10 samples - Accuracy: 84.47%\n",
            "Laplace_Uncertainty Iteration 36/48\n",
            "Epoch 1/50 - Loss: 1.9875 - Acc: 0.3270 - Val Loss: 2.4070 - Val Acc: 0.1712\n",
            "Epoch 25/50 - Loss: 0.0615 - Acc: 0.9784 - Val Loss: 0.6813 - Val Acc: 0.8226\n",
            "Epoch 50/50 - Loss: 0.0261 - Acc: 0.9946 - Val Loss: 0.6752 - Val Acc: 0.8573\n",
            "Laplace approximation fitted\n",
            "Iteration 36: Added 10 samples - Accuracy: 85.73%\n",
            "Laplace_Uncertainty Iteration 37/48\n",
            "Epoch 1/50 - Loss: 1.9607 - Acc: 0.3553 - Val Loss: 2.3261 - Val Acc: 0.1516\n",
            "Epoch 25/50 - Loss: 0.0688 - Acc: 0.9763 - Val Loss: 0.6515 - Val Acc: 0.8445\n",
            "Epoch 50/50 - Loss: 0.0145 - Acc: 0.9974 - Val Loss: 0.8758 - Val Acc: 0.8425\n",
            "Laplace approximation fitted\n",
            "Iteration 37: Added 10 samples - Accuracy: 84.25%\n",
            "Laplace_Uncertainty Iteration 38/48\n",
            "Epoch 1/50 - Loss: 1.9912 - Acc: 0.3385 - Val Loss: 2.2366 - Val Acc: 0.2166\n",
            "Epoch 25/50 - Loss: 0.0969 - Acc: 0.9615 - Val Loss: 0.4656 - Val Acc: 0.8652\n",
            "Epoch 50/50 - Loss: 0.0086 - Acc: 0.9974 - Val Loss: 0.6309 - Val Acc: 0.8682\n",
            "Laplace approximation fitted\n",
            "Iteration 38: Added 10 samples - Accuracy: 86.82%\n",
            "Laplace_Uncertainty Iteration 39/48\n",
            "Epoch 1/50 - Loss: 2.0241 - Acc: 0.2800 - Val Loss: 2.3924 - Val Acc: 0.1643\n",
            "Epoch 25/50 - Loss: 0.0856 - Acc: 0.9725 - Val Loss: 0.5091 - Val Acc: 0.8633\n",
            "Epoch 50/50 - Loss: 0.0198 - Acc: 0.9975 - Val Loss: 0.5462 - Val Acc: 0.8873\n",
            "Laplace approximation fitted\n",
            "Iteration 39: Added 10 samples - Accuracy: 88.73%\n",
            "Laplace_Uncertainty Iteration 40/48\n",
            "Epoch 1/50 - Loss: 1.9202 - Acc: 0.3073 - Val Loss: 2.4406 - Val Acc: 0.1425\n",
            "Epoch 25/50 - Loss: 0.0460 - Acc: 0.9878 - Val Loss: 0.4447 - Val Acc: 0.8848\n",
            "Epoch 50/50 - Loss: 0.0323 - Acc: 0.9951 - Val Loss: 0.4474 - Val Acc: 0.9000\n",
            "Laplace approximation fitted\n",
            "Iteration 40: Added 10 samples - Accuracy: 90.00%\n",
            "Laplace_Uncertainty Iteration 41/48\n",
            "Epoch 1/50 - Loss: 1.9332 - Acc: 0.3167 - Val Loss: 2.3257 - Val Acc: 0.1810\n",
            "Epoch 25/50 - Loss: 0.0566 - Acc: 0.9833 - Val Loss: 0.5262 - Val Acc: 0.8699\n",
            "Epoch 50/50 - Loss: 0.0242 - Acc: 0.9881 - Val Loss: 0.5637 - Val Acc: 0.8884\n",
            "Laplace approximation fitted\n",
            "Iteration 41: Added 10 samples - Accuracy: 88.84%\n",
            "Laplace_Uncertainty Iteration 42/48\n",
            "Epoch 1/50 - Loss: 1.9612 - Acc: 0.3047 - Val Loss: 2.3772 - Val Acc: 0.1763\n",
            "Epoch 25/50 - Loss: 0.0473 - Acc: 0.9767 - Val Loss: 0.4836 - Val Acc: 0.8828\n",
            "Epoch 50/50 - Loss: 0.0198 - Acc: 0.9907 - Val Loss: 0.5551 - Val Acc: 0.8843\n",
            "Laplace approximation fitted\n",
            "Iteration 42: Added 10 samples - Accuracy: 88.43%\n",
            "Laplace_Uncertainty Iteration 43/48\n",
            "Epoch 1/50 - Loss: 1.9478 - Acc: 0.3295 - Val Loss: 2.2647 - Val Acc: 0.1986\n",
            "Epoch 25/50 - Loss: 0.0423 - Acc: 0.9818 - Val Loss: 0.4759 - Val Acc: 0.8705\n",
            "Epoch 50/50 - Loss: 0.0301 - Acc: 0.9864 - Val Loss: 0.5933 - Val Acc: 0.8712\n",
            "Laplace approximation fitted\n",
            "Iteration 43: Added 10 samples - Accuracy: 87.12%\n",
            "Laplace_Uncertainty Iteration 44/48\n",
            "Epoch 1/50 - Loss: 1.9658 - Acc: 0.3267 - Val Loss: 2.3100 - Val Acc: 0.1787\n",
            "Epoch 25/50 - Loss: 0.0818 - Acc: 0.9800 - Val Loss: 0.4564 - Val Acc: 0.8720\n",
            "Epoch 50/50 - Loss: 0.0331 - Acc: 0.9889 - Val Loss: 0.5425 - Val Acc: 0.8862\n",
            "Laplace approximation fitted\n",
            "Iteration 44: Added 10 samples - Accuracy: 88.62%\n",
            "Laplace_Uncertainty Iteration 45/48\n",
            "Epoch 1/50 - Loss: 2.0218 - Acc: 0.2891 - Val Loss: 2.5218 - Val Acc: 0.1318\n",
            "Epoch 25/50 - Loss: 0.0575 - Acc: 0.9783 - Val Loss: 0.4029 - Val Acc: 0.8935\n",
            "Epoch 50/50 - Loss: 0.0216 - Acc: 0.9913 - Val Loss: 0.4690 - Val Acc: 0.8980\n",
            "Laplace approximation fitted\n",
            "Iteration 45: Added 10 samples - Accuracy: 89.80%\n",
            "Laplace_Uncertainty Iteration 46/48\n",
            "Epoch 1/50 - Loss: 1.8982 - Acc: 0.3426 - Val Loss: 2.4323 - Val Acc: 0.1880\n",
            "Epoch 25/50 - Loss: 0.0589 - Acc: 0.9830 - Val Loss: 0.3413 - Val Acc: 0.9136\n",
            "Epoch 50/50 - Loss: 0.0203 - Acc: 0.9936 - Val Loss: 0.4115 - Val Acc: 0.9141\n",
            "Laplace approximation fitted\n",
            "Iteration 46: Added 10 samples - Accuracy: 91.41%\n",
            "Laplace_Uncertainty Iteration 47/48\n",
            "Epoch 1/50 - Loss: 2.0027 - Acc: 0.3354 - Val Loss: 2.2516 - Val Acc: 0.1894\n"
          ]
        },
        {
          "output_type": "error",
          "ename": "KeyboardInterrupt",
          "evalue": "",
          "traceback": [
            "\u001b[0;31m---------------------------------------------------------------------------\u001b[0m",
            "\u001b[0;31mKeyboardInterrupt\u001b[0m                         Traceback (most recent call last)",
            "\u001b[0;32m<ipython-input-20-176e7b56aa60>\u001b[0m in \u001b[0;36m<cell line: 0>\u001b[0;34m()\u001b[0m\n\u001b[1;32m      1\u001b[0m \u001b[0;31m# Run Active Learning on Laplace Uncertainty Acquisition\u001b[0m\u001b[0;34m\u001b[0m\u001b[0;34m\u001b[0m\u001b[0m\n\u001b[0;32m----> 2\u001b[0;31m accuracies_l, added_indices_l = Active_learning(\n\u001b[0m\u001b[1;32m      3\u001b[0m     \u001b[0macquisition_type\u001b[0m\u001b[0;34m=\u001b[0m\u001b[0;34m\"laplace_uncertainty\"\u001b[0m\u001b[0;34m,\u001b[0m\u001b[0;34m\u001b[0m\u001b[0;34m\u001b[0m\u001b[0m\n\u001b[1;32m      4\u001b[0m     \u001b[0mn_epochs\u001b[0m\u001b[0;34m=\u001b[0m\u001b[0;36m50\u001b[0m\u001b[0;34m,\u001b[0m\u001b[0;34m\u001b[0m\u001b[0;34m\u001b[0m\u001b[0m\n\u001b[1;32m      5\u001b[0m     \u001b[0mn_samples_per_iter\u001b[0m\u001b[0;34m=\u001b[0m\u001b[0;36m10\u001b[0m\u001b[0;34m,\u001b[0m\u001b[0;34m\u001b[0m\u001b[0;34m\u001b[0m\u001b[0m\n",
            "\u001b[0;32m/content/drive/My Drive/Colab Notebooks/main.py\u001b[0m in \u001b[0;36mActive_learning\u001b[0;34m(acquisition_type, initial_n_samples, n_samples_per_iter, n_total_samples, n_epochs, batch_size, use_wandb, mc_iterations)\u001b[0m\n\u001b[1;32m     63\u001b[0m         \u001b[0mmodel\u001b[0m \u001b[0;34m=\u001b[0m \u001b[0mbuild_model\u001b[0m\u001b[0;34m(\u001b[0m\u001b[0;34m)\u001b[0m\u001b[0;34m\u001b[0m\u001b[0;34m\u001b[0m\u001b[0m\n\u001b[1;32m     64\u001b[0m         \u001b[0mmodel\u001b[0m \u001b[0;34m=\u001b[0m \u001b[0mmodel\u001b[0m\u001b[0;34m.\u001b[0m\u001b[0mto\u001b[0m\u001b[0;34m(\u001b[0m\u001b[0mdevice\u001b[0m\u001b[0;34m)\u001b[0m\u001b[0;34m\u001b[0m\u001b[0;34m\u001b[0m\u001b[0m\n\u001b[0;32m---> 65\u001b[0;31m         \u001b[0mtrain_model\u001b[0m\u001b[0;34m(\u001b[0m\u001b[0mmodel\u001b[0m\u001b[0;34m,\u001b[0m \u001b[0mtrain_loader\u001b[0m\u001b[0;34m,\u001b[0m \u001b[0mval_loader\u001b[0m\u001b[0;34m,\u001b[0m \u001b[0mnum_epochs\u001b[0m\u001b[0;34m=\u001b[0m\u001b[0mn_epochs\u001b[0m\u001b[0;34m,\u001b[0m \u001b[0mmodel_dir\u001b[0m\u001b[0;34m=\u001b[0m\u001b[0;32mNone\u001b[0m\u001b[0;34m)\u001b[0m\u001b[0;34m\u001b[0m\u001b[0;34m\u001b[0m\u001b[0m\n\u001b[0m\u001b[1;32m     66\u001b[0m \u001b[0;34m\u001b[0m\u001b[0m\n\u001b[1;32m     67\u001b[0m         \u001b[0;31m# Acquisition strategy\u001b[0m\u001b[0;34m\u001b[0m\u001b[0;34m\u001b[0m\u001b[0m\n",
            "\u001b[0;32m/content/drive/My Drive/Colab Notebooks/model.py\u001b[0m in \u001b[0;36mtrain_model\u001b[0;34m(model, train_loader, val_loader, num_epochs, model_dir)\u001b[0m\n\u001b[1;32m     64\u001b[0m             \u001b[0mloss\u001b[0m \u001b[0;34m=\u001b[0m \u001b[0mcriterion\u001b[0m\u001b[0;34m(\u001b[0m\u001b[0moutputs\u001b[0m\u001b[0;34m,\u001b[0m \u001b[0mtargets\u001b[0m\u001b[0;34m)\u001b[0m\u001b[0;34m\u001b[0m\u001b[0;34m\u001b[0m\u001b[0m\n\u001b[1;32m     65\u001b[0m \u001b[0;34m\u001b[0m\u001b[0m\n\u001b[0;32m---> 66\u001b[0;31m             \u001b[0mloss\u001b[0m\u001b[0;34m.\u001b[0m\u001b[0mbackward\u001b[0m\u001b[0;34m(\u001b[0m\u001b[0;34m)\u001b[0m\u001b[0;34m\u001b[0m\u001b[0;34m\u001b[0m\u001b[0m\n\u001b[0m\u001b[1;32m     67\u001b[0m             \u001b[0moptimizer\u001b[0m\u001b[0;34m.\u001b[0m\u001b[0mstep\u001b[0m\u001b[0;34m(\u001b[0m\u001b[0;34m)\u001b[0m\u001b[0;34m\u001b[0m\u001b[0;34m\u001b[0m\u001b[0m\n\u001b[1;32m     68\u001b[0m \u001b[0;34m\u001b[0m\u001b[0m\n",
            "\u001b[0;32m/usr/local/lib/python3.11/dist-packages/torch/_tensor.py\u001b[0m in \u001b[0;36mbackward\u001b[0;34m(self, gradient, retain_graph, create_graph, inputs)\u001b[0m\n\u001b[1;32m    624\u001b[0m                 \u001b[0minputs\u001b[0m\u001b[0;34m=\u001b[0m\u001b[0minputs\u001b[0m\u001b[0;34m,\u001b[0m\u001b[0;34m\u001b[0m\u001b[0;34m\u001b[0m\u001b[0m\n\u001b[1;32m    625\u001b[0m             )\n\u001b[0;32m--> 626\u001b[0;31m         torch.autograd.backward(\n\u001b[0m\u001b[1;32m    627\u001b[0m             \u001b[0mself\u001b[0m\u001b[0;34m,\u001b[0m \u001b[0mgradient\u001b[0m\u001b[0;34m,\u001b[0m \u001b[0mretain_graph\u001b[0m\u001b[0;34m,\u001b[0m \u001b[0mcreate_graph\u001b[0m\u001b[0;34m,\u001b[0m \u001b[0minputs\u001b[0m\u001b[0;34m=\u001b[0m\u001b[0minputs\u001b[0m\u001b[0;34m\u001b[0m\u001b[0;34m\u001b[0m\u001b[0m\n\u001b[1;32m    628\u001b[0m         )\n",
            "\u001b[0;32m/usr/local/lib/python3.11/dist-packages/torch/autograd/__init__.py\u001b[0m in \u001b[0;36mbackward\u001b[0;34m(tensors, grad_tensors, retain_graph, create_graph, grad_variables, inputs)\u001b[0m\n\u001b[1;32m    345\u001b[0m     \u001b[0;31m# some Python versions print out the first line of a multi-line function\u001b[0m\u001b[0;34m\u001b[0m\u001b[0;34m\u001b[0m\u001b[0m\n\u001b[1;32m    346\u001b[0m     \u001b[0;31m# calls in the traceback and some print out the last line\u001b[0m\u001b[0;34m\u001b[0m\u001b[0;34m\u001b[0m\u001b[0m\n\u001b[0;32m--> 347\u001b[0;31m     _engine_run_backward(\n\u001b[0m\u001b[1;32m    348\u001b[0m         \u001b[0mtensors\u001b[0m\u001b[0;34m,\u001b[0m\u001b[0;34m\u001b[0m\u001b[0;34m\u001b[0m\u001b[0m\n\u001b[1;32m    349\u001b[0m         \u001b[0mgrad_tensors_\u001b[0m\u001b[0;34m,\u001b[0m\u001b[0;34m\u001b[0m\u001b[0;34m\u001b[0m\u001b[0m\n",
            "\u001b[0;32m/usr/local/lib/python3.11/dist-packages/torch/autograd/graph.py\u001b[0m in \u001b[0;36m_engine_run_backward\u001b[0;34m(t_outputs, *args, **kwargs)\u001b[0m\n\u001b[1;32m    821\u001b[0m         \u001b[0munregister_hooks\u001b[0m \u001b[0;34m=\u001b[0m \u001b[0m_register_logging_hooks_on_whole_graph\u001b[0m\u001b[0;34m(\u001b[0m\u001b[0mt_outputs\u001b[0m\u001b[0;34m)\u001b[0m\u001b[0;34m\u001b[0m\u001b[0;34m\u001b[0m\u001b[0m\n\u001b[1;32m    822\u001b[0m     \u001b[0;32mtry\u001b[0m\u001b[0;34m:\u001b[0m\u001b[0;34m\u001b[0m\u001b[0;34m\u001b[0m\u001b[0m\n\u001b[0;32m--> 823\u001b[0;31m         return Variable._execution_engine.run_backward(  # Calls into the C++ engine to run the backward pass\n\u001b[0m\u001b[1;32m    824\u001b[0m             \u001b[0mt_outputs\u001b[0m\u001b[0;34m,\u001b[0m \u001b[0;34m*\u001b[0m\u001b[0margs\u001b[0m\u001b[0;34m,\u001b[0m \u001b[0;34m**\u001b[0m\u001b[0mkwargs\u001b[0m\u001b[0;34m\u001b[0m\u001b[0;34m\u001b[0m\u001b[0m\n\u001b[1;32m    825\u001b[0m         )  # Calls into the C++ engine to run the backward pass\n",
            "\u001b[0;31mKeyboardInterrupt\u001b[0m: "
          ]
        }
      ],
      "source": [
        "# Run Active Learning on Laplace Uncertainty Acquisition\n",
        "accuracies_l, added_indices_l = Active_learning(\n",
        "    acquisition_type=\"laplace_uncertainty\",\n",
        "    n_epochs=50,\n",
        "    n_samples_per_iter=10,\n",
        "    initial_n_samples=20,\n",
        "    n_total_samples=500,\n",
        "    use_wandb=False\n",
        ")\n",
        "\n",
        "# Run Active Learning on Random Acquisition\n",
        "accuracies_r, added_indices_r = Active_learning(\n",
        "    acquisition_type=\"random\",\n",
        "    n_epochs=50,\n",
        "    n_samples_per_iter=10,\n",
        "    initial_n_samples=20,\n",
        "    n_total_samples=500,\n",
        "    use_wandb=False\n",
        ")\n",
        "\n",
        "# Run Active Learning on Knowlege Uncertainty Acquisition\n",
        "accuracies_k, added_indices_k = Active_learning(\n",
        "   acquisition_type=\"knowledge_uncertainty\",\n",
        "    n_epochs=50,\n",
        "    n_samples_per_iter=10,\n",
        "    initial_n_samples=20,\n",
        "    n_total_samples=500,\n",
        "    use_wandb=False\n",
        ")"
      ]
    },
    {
      "cell_type": "markdown",
      "metadata": {
        "id": "fXaAAe5R0Opy"
      },
      "source": [
        "### 2.5  Visualise the Results\n",
        "\n",
        "Now that we have our loop, we can inspect the results of this\n",
        "process. We will use seaborn and matplotlib to visualize our\n",
        "results. The main result we are interested in is the test accuracy over time\n",
        "for both the models trained with a random acquisition function and\n",
        "the models trained with data acquired via knowledge uncertainty.\n",
        "To visualize this, we define `ActiveLearningVisualizer` that loads the results and\n",
        "then returns a plot that shows the accuracy per active learning\n",
        "iteration cycle.\n",
        "\n",
        "We can then use this function to plot the results for all acquisition\n",
        "functions:"
      ]
    },
    {
      "cell_type": "code",
      "execution_count": null,
      "metadata": {
        "id": "FIDK-GgxBBFH"
      },
      "outputs": [],
      "source": [
        "from visualise import ActiveLearningVisualizer\n",
        "import matplotlib.pyplot as plt\n",
        "\n",
        "# Initialize visualizer\n",
        "visualizer = ActiveLearningVisualizer(output_dir=\"output\", samples_per_iter=10, initial_samples=20)\n",
        "\n",
        "# Compare different acquisition strategies\n",
        "# IMPORTANT: change the uuids according to the ones assigned to each of the models trained\n",
        "fig_acc, fig_img, imgs = visualizer.compare_from_uuids(\n",
        "    uuids=[\"f495ac8f-2dd6-45f4-8142-5ac2d4c0ddb4\",\n",
        "            \"3431804b-e582-48ba-a8e2-872c87c63146\",\n",
        "            \"2dcb6f4f-495e-4b5c-b50c-03daedcd1ef2\"],\n",
        "    acquisition_types=[\"laplace_uncertainty\", \"random\", \"knowledge_uncertainty\"]\n",
        ")\n",
        "\n",
        "plt.show()"
      ]
    },
    {
      "cell_type": "markdown",
      "metadata": {
        "id": "g-QJAhQhOX2L"
      },
      "source": [
        "**Question 5 (10 marks)**\n",
        "\n",
        "- What can you conclude from the figure that shows the Accuracy of the different acquisition strategies? (**5 marks**). Use a single sentence.\n",
        "\n",
        "*Solution*\n",
        "\n",
        "Write your answer here"
      ]
    },
    {
      "cell_type": "markdown",
      "source": [
        "- What can you conclude when comparing the samples of the digits chosen for training by the different Acquisition strategies? (**5 marks**). Use a single sentence.\n",
        "\n",
        "*Solution*\n",
        "\n",
        "Write your answer here"
      ],
      "metadata": {
        "id": "7fLnXe1gYgrE"
      }
    }
  ],
  "metadata": {
    "colab": {
      "provenance": [],
      "gpuType": "T4",
      "include_colab_link": true
    },
    "kernelspec": {
      "display_name": "Python 3",
      "name": "python3"
    },
    "language_info": {
      "codemirror_mode": {
        "name": "ipython",
        "version": 3
      },
      "file_extension": ".py",
      "mimetype": "text/x-python",
      "name": "python",
      "nbconvert_exporter": "python",
      "pygments_lexer": "ipython3",
      "version": "3.11.4"
    },
    "toc": {
      "base_numbering": 1,
      "nav_menu": {},
      "number_sections": true,
      "sideBar": true,
      "skip_h1_title": false,
      "title_cell": "Table of Contents",
      "title_sidebar": "Contents",
      "toc_cell": false,
      "toc_position": {},
      "toc_section_display": true,
      "toc_window_display": false
    },
    "accelerator": "GPU",
    "widgets": {
      "application/vnd.jupyter.widget-state+json": {
        "cd9dae3481994b1d98e387cae7eb21d5": {
          "model_module": "@jupyter-widgets/output",
          "model_name": "OutputModel",
          "model_module_version": "1.0.0",
          "state": {
            "_dom_classes": [],
            "_model_module": "@jupyter-widgets/output",
            "_model_module_version": "1.0.0",
            "_model_name": "OutputModel",
            "_view_count": null,
            "_view_module": "@jupyter-widgets/output",
            "_view_module_version": "1.0.0",
            "_view_name": "OutputView",
            "layout": "IPY_MODEL_921e79d9985342dfa2a269deb03c25db",
            "msg_id": "",
            "outputs": [
              {
                "output_type": "display_data",
                "data": {
                  "text/plain": "                                                                                                                   \n \u001b[1m \u001b[0m\u001b[1mProgress                \u001b[0m\u001b[1m \u001b[0m \u001b[1m \u001b[0m\u001b[1mDraws\u001b[0m\u001b[1m \u001b[0m \u001b[1m \u001b[0m\u001b[1mDivergences\u001b[0m\u001b[1m \u001b[0m \u001b[1m \u001b[0m\u001b[1mStep size\u001b[0m\u001b[1m \u001b[0m \u001b[1m \u001b[0m\u001b[1mGrad evals\u001b[0m\u001b[1m \u001b[0m \u001b[1m \u001b[0m\u001b[1mSampling Speed \u001b[0m\u001b[1m \u001b[0m \u001b[1m \u001b[0m\u001b[1mElapsed\u001b[0m\u001b[1m \u001b[0m \u001b[1m \u001b[0m\u001b[1mRemaining\u001b[0m\u001b[1m \u001b[0m \n ───────────────────────────────────────────────────────────────────────────────────────────────────────────────── \n  \u001b[38;2;31;119;180m━━━━━━━━━━━━━━━━━━━━━━━━\u001b[0m   3000    0             1.52        1            2555.38 draws/s   0:00:01   0:00:00    \n  \u001b[38;2;31;119;180m━━━━━━━━━━━━━━━━━━━━━━━━\u001b[0m   3000    0             1.23        1            1384.29 draws/s   0:00:02   0:00:00    \n                                                                                                                   \n",
                  "text/html": "<pre style=\"white-space:pre;overflow-x:auto;line-height:normal;font-family:Menlo,'DejaVu Sans Mono',consolas,'Courier New',monospace\">                                                                                                                   \n <span style=\"font-weight: bold\"> Progress                 </span> <span style=\"font-weight: bold\"> Draws </span> <span style=\"font-weight: bold\"> Divergences </span> <span style=\"font-weight: bold\"> Step size </span> <span style=\"font-weight: bold\"> Grad evals </span> <span style=\"font-weight: bold\"> Sampling Speed  </span> <span style=\"font-weight: bold\"> Elapsed </span> <span style=\"font-weight: bold\"> Remaining </span> \n ───────────────────────────────────────────────────────────────────────────────────────────────────────────────── \n  <span style=\"color: #1f77b4; text-decoration-color: #1f77b4\">━━━━━━━━━━━━━━━━━━━━━━━━</span>   3000    0             1.52        1            2555.38 draws/s   0:00:01   0:00:00    \n  <span style=\"color: #1f77b4; text-decoration-color: #1f77b4\">━━━━━━━━━━━━━━━━━━━━━━━━</span>   3000    0             1.23        1            1384.29 draws/s   0:00:02   0:00:00    \n                                                                                                                   \n</pre>\n"
                },
                "metadata": {}
              }
            ]
          }
        },
        "921e79d9985342dfa2a269deb03c25db": {
          "model_module": "@jupyter-widgets/base",
          "model_name": "LayoutModel",
          "model_module_version": "1.2.0",
          "state": {
            "_model_module": "@jupyter-widgets/base",
            "_model_module_version": "1.2.0",
            "_model_name": "LayoutModel",
            "_view_count": null,
            "_view_module": "@jupyter-widgets/base",
            "_view_module_version": "1.2.0",
            "_view_name": "LayoutView",
            "align_content": null,
            "align_items": null,
            "align_self": null,
            "border": null,
            "bottom": null,
            "display": null,
            "flex": null,
            "flex_flow": null,
            "grid_area": null,
            "grid_auto_columns": null,
            "grid_auto_flow": null,
            "grid_auto_rows": null,
            "grid_column": null,
            "grid_gap": null,
            "grid_row": null,
            "grid_template_areas": null,
            "grid_template_columns": null,
            "grid_template_rows": null,
            "height": null,
            "justify_content": null,
            "justify_items": null,
            "left": null,
            "margin": null,
            "max_height": null,
            "max_width": null,
            "min_height": null,
            "min_width": null,
            "object_fit": null,
            "object_position": null,
            "order": null,
            "overflow": null,
            "overflow_x": null,
            "overflow_y": null,
            "padding": null,
            "right": null,
            "top": null,
            "visibility": null,
            "width": null
          }
        },
        "0586938686004dd4ac9f6778d7135c78": {
          "model_module": "@jupyter-widgets/output",
          "model_name": "OutputModel",
          "model_module_version": "1.0.0",
          "state": {
            "_dom_classes": [],
            "_model_module": "@jupyter-widgets/output",
            "_model_module_version": "1.0.0",
            "_model_name": "OutputModel",
            "_view_count": null,
            "_view_module": "@jupyter-widgets/output",
            "_view_module_version": "1.0.0",
            "_view_name": "OutputView",
            "layout": "IPY_MODEL_9639fef5045a438eace08079546af5b3",
            "msg_id": "",
            "outputs": [
              {
                "output_type": "display_data",
                "data": {
                  "text/plain": "                                                                                                                   \n \u001b[1m \u001b[0m\u001b[1mProgress                 \u001b[0m\u001b[1m \u001b[0m \u001b[1m \u001b[0m\u001b[1mDraws\u001b[0m\u001b[1m \u001b[0m \u001b[1m \u001b[0m\u001b[1mDivergences\u001b[0m\u001b[1m \u001b[0m \u001b[1m \u001b[0m\u001b[1mStep size\u001b[0m\u001b[1m \u001b[0m \u001b[1m \u001b[0m\u001b[1mGrad evals\u001b[0m\u001b[1m \u001b[0m \u001b[1m \u001b[0m\u001b[1mSampling Speed\u001b[0m\u001b[1m \u001b[0m \u001b[1m \u001b[0m\u001b[1mElapsed\u001b[0m\u001b[1m \u001b[0m \u001b[1m \u001b[0m\u001b[1mRemaining\u001b[0m\u001b[1m \u001b[0m \n ───────────────────────────────────────────────────────────────────────────────────────────────────────────────── \n  \u001b[38;2;31;119;180m━━━━━━━━━━━━━━━━━━━━━━━━━\u001b[0m   3000    0             0.77        7            819.48 draws/s   0:00:03   0:00:00    \n  \u001b[38;2;31;119;180m━━━━━━━━━━━━━━━━━━━━━━━━━\u001b[0m   3000    0             0.69        7            418.62 draws/s   0:00:07   0:00:00    \n                                                                                                                   \n",
                  "text/html": "<pre style=\"white-space:pre;overflow-x:auto;line-height:normal;font-family:Menlo,'DejaVu Sans Mono',consolas,'Courier New',monospace\">                                                                                                                   \n <span style=\"font-weight: bold\"> Progress                  </span> <span style=\"font-weight: bold\"> Draws </span> <span style=\"font-weight: bold\"> Divergences </span> <span style=\"font-weight: bold\"> Step size </span> <span style=\"font-weight: bold\"> Grad evals </span> <span style=\"font-weight: bold\"> Sampling Speed </span> <span style=\"font-weight: bold\"> Elapsed </span> <span style=\"font-weight: bold\"> Remaining </span> \n ───────────────────────────────────────────────────────────────────────────────────────────────────────────────── \n  <span style=\"color: #1f77b4; text-decoration-color: #1f77b4\">━━━━━━━━━━━━━━━━━━━━━━━━━</span>   3000    0             0.77        7            819.48 draws/s   0:00:03   0:00:00    \n  <span style=\"color: #1f77b4; text-decoration-color: #1f77b4\">━━━━━━━━━━━━━━━━━━━━━━━━━</span>   3000    0             0.69        7            418.62 draws/s   0:00:07   0:00:00    \n                                                                                                                   \n</pre>\n"
                },
                "metadata": {}
              }
            ]
          }
        },
        "9639fef5045a438eace08079546af5b3": {
          "model_module": "@jupyter-widgets/base",
          "model_name": "LayoutModel",
          "model_module_version": "1.2.0",
          "state": {
            "_model_module": "@jupyter-widgets/base",
            "_model_module_version": "1.2.0",
            "_model_name": "LayoutModel",
            "_view_count": null,
            "_view_module": "@jupyter-widgets/base",
            "_view_module_version": "1.2.0",
            "_view_name": "LayoutView",
            "align_content": null,
            "align_items": null,
            "align_self": null,
            "border": null,
            "bottom": null,
            "display": null,
            "flex": null,
            "flex_flow": null,
            "grid_area": null,
            "grid_auto_columns": null,
            "grid_auto_flow": null,
            "grid_auto_rows": null,
            "grid_column": null,
            "grid_gap": null,
            "grid_row": null,
            "grid_template_areas": null,
            "grid_template_columns": null,
            "grid_template_rows": null,
            "height": null,
            "justify_content": null,
            "justify_items": null,
            "left": null,
            "margin": null,
            "max_height": null,
            "max_width": null,
            "min_height": null,
            "min_width": null,
            "object_fit": null,
            "object_position": null,
            "order": null,
            "overflow": null,
            "overflow_x": null,
            "overflow_y": null,
            "padding": null,
            "right": null,
            "top": null,
            "visibility": null,
            "width": null
          }
        }
      }
    }
  },
  "nbformat": 4,
  "nbformat_minor": 0
}